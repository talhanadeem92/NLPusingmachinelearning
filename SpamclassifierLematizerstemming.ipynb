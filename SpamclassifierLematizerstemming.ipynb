{
  "nbformat": 4,
  "nbformat_minor": 0,
  "metadata": {
    "colab": {
      "provenance": []
    },
    "kernelspec": {
      "name": "python3",
      "display_name": "Python 3"
    },
    "language_info": {
      "name": "python"
    }
  },
  "cells": [
    {
      "cell_type": "code",
      "source": [
        "!pip install nltk"
      ],
      "metadata": {
        "colab": {
          "base_uri": "https://localhost:8080/"
        },
        "id": "rfHviyYXa5iC",
        "outputId": "db721434-9bba-4221-e000-0f1634c0262b"
      },
      "execution_count": null,
      "outputs": [
        {
          "output_type": "stream",
          "name": "stdout",
          "text": [
            "Requirement already satisfied: nltk in /usr/local/lib/python3.10/dist-packages (3.8.1)\n",
            "Requirement already satisfied: click in /usr/local/lib/python3.10/dist-packages (from nltk) (8.1.7)\n",
            "Requirement already satisfied: joblib in /usr/local/lib/python3.10/dist-packages (from nltk) (1.4.2)\n",
            "Requirement already satisfied: regex>=2021.8.3 in /usr/local/lib/python3.10/dist-packages (from nltk) (2024.5.15)\n",
            "Requirement already satisfied: tqdm in /usr/local/lib/python3.10/dist-packages (from nltk) (4.66.5)\n"
          ]
        }
      ]
    },
    {
      "cell_type": "code",
      "source": [
        "import nltk\n",
        "nltk.download('punkt')\n"
      ],
      "metadata": {
        "colab": {
          "base_uri": "https://localhost:8080/"
        },
        "id": "DJAGbkp-aZid",
        "outputId": "4a41e61f-311d-4155-90fc-a0a258c88905"
      },
      "execution_count": null,
      "outputs": [
        {
          "output_type": "stream",
          "name": "stderr",
          "text": [
            "[nltk_data] Downloading package punkt to /root/nltk_data...\n",
            "[nltk_data]   Unzipping tokenizers/punkt.zip.\n"
          ]
        },
        {
          "output_type": "execute_result",
          "data": {
            "text/plain": [
              "True"
            ]
          },
          "metadata": {},
          "execution_count": 5
        }
      ]
    },
    {
      "cell_type": "code",
      "source": [
        "\n",
        "paragraph=\"\"\"Trial and Error: Trying multiple solutions and learning from mistakes until a satisfactory solution is found.\n",
        "\n",
        "Hill Climbing: A heuristic that involves choosing the option that appears to lead most directly toward the goal, without considering other paths that might be better in the long run.\n",
        "\n",
        "Greedy Algorithm: A heuristic that makes the locally optimal choice at each step with the hope of finding the global optimum.\n",
        "\n",
        "Availability Heuristic: In decision-making, people often rely on immediate examples that come to mind, which might not be statistically representative but are easy to recall.\n",
        "\n",
        "Rule-Based Heuristics in AI: In artificial intelligence, heuristics might involve using predefined rules to make decisions or classify data when faced with incomplete information\"\"\""
      ],
      "metadata": {
        "id": "GsSG86GpbD8l"
      },
      "execution_count": null,
      "outputs": []
    },
    {
      "cell_type": "code",
      "source": [
        "# Tokenizing sentences\n",
        "sentencees= nltk.sent_tokenize(paragraph)"
      ],
      "metadata": {
        "id": "x_yScA45bjf2"
      },
      "execution_count": null,
      "outputs": []
    },
    {
      "cell_type": "code",
      "source": [
        "sentencees"
      ],
      "metadata": {
        "colab": {
          "base_uri": "https://localhost:8080/"
        },
        "id": "f9kC8g0ibvO5",
        "outputId": "7d6600e5-834b-47fe-9a8c-abd94a5a6104"
      },
      "execution_count": null,
      "outputs": [
        {
          "output_type": "execute_result",
          "data": {
            "text/plain": [
              "['Trial and Error: Trying multiple solutions and learning from mistakes until a satisfactory solution is found.',\n",
              " 'Hill Climbing: A heuristic that involves choosing the option that appears to lead most directly toward the goal, without considering other paths that might be better in the long run.',\n",
              " 'Greedy Algorithm: A heuristic that makes the locally optimal choice at each step with the hope of finding the global optimum.',\n",
              " 'Availability Heuristic: In decision-making, people often rely on immediate examples that come to mind, which might not be statistically representative but are easy to recall.',\n",
              " 'Rule-Based Heuristics in AI: In artificial intelligence, heuristics might involve using predefined rules to make decisions or classify data when faced with incomplete information']"
            ]
          },
          "metadata": {},
          "execution_count": 9
        }
      ]
    },
    {
      "cell_type": "code",
      "source": [
        "# Tokenizing words"
      ],
      "metadata": {
        "id": "VDTFf_7Hbwi3"
      },
      "execution_count": null,
      "outputs": []
    },
    {
      "cell_type": "code",
      "source": [
        "words=nltk.word_tokenize(paragraph)\n",
        "words"
      ],
      "metadata": {
        "colab": {
          "base_uri": "https://localhost:8080/"
        },
        "id": "qZXczNi9b8x_",
        "outputId": "5c26bfb4-d5be-4e67-b744-8a09ade759e4"
      },
      "execution_count": null,
      "outputs": [
        {
          "output_type": "execute_result",
          "data": {
            "text/plain": [
              "['Trial',\n",
              " 'and',\n",
              " 'Error',\n",
              " ':',\n",
              " 'Trying',\n",
              " 'multiple',\n",
              " 'solutions',\n",
              " 'and',\n",
              " 'learning',\n",
              " 'from',\n",
              " 'mistakes',\n",
              " 'until',\n",
              " 'a',\n",
              " 'satisfactory',\n",
              " 'solution',\n",
              " 'is',\n",
              " 'found',\n",
              " '.',\n",
              " 'Hill',\n",
              " 'Climbing',\n",
              " ':',\n",
              " 'A',\n",
              " 'heuristic',\n",
              " 'that',\n",
              " 'involves',\n",
              " 'choosing',\n",
              " 'the',\n",
              " 'option',\n",
              " 'that',\n",
              " 'appears',\n",
              " 'to',\n",
              " 'lead',\n",
              " 'most',\n",
              " 'directly',\n",
              " 'toward',\n",
              " 'the',\n",
              " 'goal',\n",
              " ',',\n",
              " 'without',\n",
              " 'considering',\n",
              " 'other',\n",
              " 'paths',\n",
              " 'that',\n",
              " 'might',\n",
              " 'be',\n",
              " 'better',\n",
              " 'in',\n",
              " 'the',\n",
              " 'long',\n",
              " 'run',\n",
              " '.',\n",
              " 'Greedy',\n",
              " 'Algorithm',\n",
              " ':',\n",
              " 'A',\n",
              " 'heuristic',\n",
              " 'that',\n",
              " 'makes',\n",
              " 'the',\n",
              " 'locally',\n",
              " 'optimal',\n",
              " 'choice',\n",
              " 'at',\n",
              " 'each',\n",
              " 'step',\n",
              " 'with',\n",
              " 'the',\n",
              " 'hope',\n",
              " 'of',\n",
              " 'finding',\n",
              " 'the',\n",
              " 'global',\n",
              " 'optimum',\n",
              " '.',\n",
              " 'Availability',\n",
              " 'Heuristic',\n",
              " ':',\n",
              " 'In',\n",
              " 'decision-making',\n",
              " ',',\n",
              " 'people',\n",
              " 'often',\n",
              " 'rely',\n",
              " 'on',\n",
              " 'immediate',\n",
              " 'examples',\n",
              " 'that',\n",
              " 'come',\n",
              " 'to',\n",
              " 'mind',\n",
              " ',',\n",
              " 'which',\n",
              " 'might',\n",
              " 'not',\n",
              " 'be',\n",
              " 'statistically',\n",
              " 'representative',\n",
              " 'but',\n",
              " 'are',\n",
              " 'easy',\n",
              " 'to',\n",
              " 'recall',\n",
              " '.',\n",
              " 'Rule-Based',\n",
              " 'Heuristics',\n",
              " 'in',\n",
              " 'AI',\n",
              " ':',\n",
              " 'In',\n",
              " 'artificial',\n",
              " 'intelligence',\n",
              " ',',\n",
              " 'heuristics',\n",
              " 'might',\n",
              " 'involve',\n",
              " 'using',\n",
              " 'predefined',\n",
              " 'rules',\n",
              " 'to',\n",
              " 'make',\n",
              " 'decisions',\n",
              " 'or',\n",
              " 'classify',\n",
              " 'data',\n",
              " 'when',\n",
              " 'faced',\n",
              " 'with',\n",
              " 'incomplete',\n",
              " 'information']"
            ]
          },
          "metadata": {},
          "execution_count": 11
        }
      ]
    },
    {
      "cell_type": "markdown",
      "source": [
        "**Stemming**"
      ],
      "metadata": {
        "id": "oiqG1mJyvjO6"
      }
    },
    {
      "cell_type": "code",
      "source": [
        "import nltk\n",
        "nltk.download('stopwords')"
      ],
      "metadata": {
        "colab": {
          "base_uri": "https://localhost:8080/"
        },
        "id": "M9i9vAvWvYHH",
        "outputId": "bd4f8a03-628c-4c04-c1ac-25a49d600eaa"
      },
      "execution_count": null,
      "outputs": [
        {
          "output_type": "stream",
          "name": "stderr",
          "text": [
            "[nltk_data] Downloading package stopwords to /root/nltk_data...\n",
            "[nltk_data]   Unzipping corpora/stopwords.zip.\n"
          ]
        },
        {
          "output_type": "execute_result",
          "data": {
            "text/plain": [
              "True"
            ]
          },
          "metadata": {},
          "execution_count": 13
        }
      ]
    },
    {
      "cell_type": "code",
      "source": [
        "import nltk\n",
        "from nltk.stem import PorterStemmer\n",
        "from nltk.corpus import stopwords\n",
        "sentence=nltk.sent_tokenize(paragraph)\n",
        "stemmer=PorterStemmer()\n",
        "for i in range(len(sentence)):\n",
        "  words=nltk.word_tokenize(sentence[i])\n",
        "  words=[stemmer.stem(word) for word in words if word not in set(stopwords.words('english'))]\n",
        "  sentence[i]=' '.join(words)\n",
        "sentence"
      ],
      "metadata": {
        "colab": {
          "base_uri": "https://localhost:8080/"
        },
        "id": "pp4wV6Z-cGIr",
        "outputId": "42aada0e-906c-4cb3-c0bc-16d0caaa9281"
      },
      "execution_count": null,
      "outputs": [
        {
          "output_type": "execute_result",
          "data": {
            "text/plain": [
              "['trial error : tri multipl solut learn mistak satisfactori solut found .',\n",
              " 'hill climb : a heurist involv choos option appear lead directli toward goal , without consid path might better long run .',\n",
              " 'greedi algorithm : a heurist make local optim choic step hope find global optimum .',\n",
              " 'avail heurist : in decision-mak , peopl often reli immedi exampl come mind , might statist repres easi recal .',\n",
              " 'rule-bas heurist ai : in artifici intellig , heurist might involv use predefin rule make decis classifi data face incomplet inform']"
            ]
          },
          "metadata": {},
          "execution_count": 14
        }
      ]
    },
    {
      "cell_type": "markdown",
      "source": [
        "**Lemmatizer**"
      ],
      "metadata": {
        "id": "TIjKjDFXvsAC"
      }
    },
    {
      "cell_type": "code",
      "source": [
        "import nltk\n",
        "from nltk.stem import WordNetLemmatizer\n",
        "from nltk.corpus import  stopwords\n",
        "nltk.download('wordnet')\n",
        "sentence=nltk.sent_tokenize(paragraph)\n",
        "lemmatizer=WordNetLemmatizer()\n",
        "for i in range(len(sentence)):\n",
        "  words=nltk.word_tokenize(sentence[i])\n",
        "  words=[lemmatizer.lemmatize(word) for word in words if word not in set(stopwords.words('english'))]\n",
        "  sentence[i]=' '.join(words)\n",
        "sentence"
      ],
      "metadata": {
        "colab": {
          "base_uri": "https://localhost:8080/"
        },
        "id": "FIX9Zs-Ovra3",
        "outputId": "f1373d8b-4f9d-418a-bd9c-68a3fc86dc22"
      },
      "execution_count": null,
      "outputs": [
        {
          "output_type": "stream",
          "name": "stderr",
          "text": [
            "[nltk_data] Downloading package wordnet to /root/nltk_data...\n"
          ]
        },
        {
          "output_type": "execute_result",
          "data": {
            "text/plain": [
              "['Trial Error : Trying multiple solution learning mistake satisfactory solution found .',\n",
              " 'Hill Climbing : A heuristic involves choosing option appears lead directly toward goal , without considering path might better long run .',\n",
              " 'Greedy Algorithm : A heuristic make locally optimal choice step hope finding global optimum .',\n",
              " 'Availability Heuristic : In decision-making , people often rely immediate example come mind , might statistically representative easy recall .',\n",
              " 'Rule-Based Heuristics AI : In artificial intelligence , heuristic might involve using predefined rule make decision classify data faced incomplete information']"
            ]
          },
          "metadata": {},
          "execution_count": 15
        }
      ]
    },
    {
      "cell_type": "markdown",
      "source": [
        "# Implement Spam Classifier"
      ],
      "metadata": {
        "id": "G0uG0ZKOoKo5"
      }
    },
    {
      "cell_type": "code",
      "source": [
        "import pandas as pd\n",
        "messages=pd.read_csv('/content/SMSSpamCollection',sep='\\t',names=['label','message'])\n",
        "messages.head()"
      ],
      "metadata": {
        "colab": {
          "base_uri": "https://localhost:8080/",
          "height": 206
        },
        "id": "_eb-6mRhoJmW",
        "outputId": "1f236062-1dc0-4a35-cc9a-4876dc81662d"
      },
      "execution_count": null,
      "outputs": [
        {
          "output_type": "execute_result",
          "data": {
            "text/plain": [
              "  label                                            message\n",
              "0   ham  Go until jurong point, crazy.. Available only ...\n",
              "1   ham                      Ok lar... Joking wif u oni...\n",
              "2  spam  Free entry in 2 a wkly comp to win FA Cup fina...\n",
              "3   ham  U dun say so early hor... U c already then say...\n",
              "4   ham  Nah I don't think he goes to usf, he lives aro..."
            ],
            "text/html": [
              "\n",
              "  <div id=\"df-a824d5dd-f178-4815-b1c4-13e5bc201ebd\" class=\"colab-df-container\">\n",
              "    <div>\n",
              "<style scoped>\n",
              "    .dataframe tbody tr th:only-of-type {\n",
              "        vertical-align: middle;\n",
              "    }\n",
              "\n",
              "    .dataframe tbody tr th {\n",
              "        vertical-align: top;\n",
              "    }\n",
              "\n",
              "    .dataframe thead th {\n",
              "        text-align: right;\n",
              "    }\n",
              "</style>\n",
              "<table border=\"1\" class=\"dataframe\">\n",
              "  <thead>\n",
              "    <tr style=\"text-align: right;\">\n",
              "      <th></th>\n",
              "      <th>label</th>\n",
              "      <th>message</th>\n",
              "    </tr>\n",
              "  </thead>\n",
              "  <tbody>\n",
              "    <tr>\n",
              "      <th>0</th>\n",
              "      <td>ham</td>\n",
              "      <td>Go until jurong point, crazy.. Available only ...</td>\n",
              "    </tr>\n",
              "    <tr>\n",
              "      <th>1</th>\n",
              "      <td>ham</td>\n",
              "      <td>Ok lar... Joking wif u oni...</td>\n",
              "    </tr>\n",
              "    <tr>\n",
              "      <th>2</th>\n",
              "      <td>spam</td>\n",
              "      <td>Free entry in 2 a wkly comp to win FA Cup fina...</td>\n",
              "    </tr>\n",
              "    <tr>\n",
              "      <th>3</th>\n",
              "      <td>ham</td>\n",
              "      <td>U dun say so early hor... U c already then say...</td>\n",
              "    </tr>\n",
              "    <tr>\n",
              "      <th>4</th>\n",
              "      <td>ham</td>\n",
              "      <td>Nah I don't think he goes to usf, he lives aro...</td>\n",
              "    </tr>\n",
              "  </tbody>\n",
              "</table>\n",
              "</div>\n",
              "    <div class=\"colab-df-buttons\">\n",
              "\n",
              "  <div class=\"colab-df-container\">\n",
              "    <button class=\"colab-df-convert\" onclick=\"convertToInteractive('df-a824d5dd-f178-4815-b1c4-13e5bc201ebd')\"\n",
              "            title=\"Convert this dataframe to an interactive table.\"\n",
              "            style=\"display:none;\">\n",
              "\n",
              "  <svg xmlns=\"http://www.w3.org/2000/svg\" height=\"24px\" viewBox=\"0 -960 960 960\">\n",
              "    <path d=\"M120-120v-720h720v720H120Zm60-500h600v-160H180v160Zm220 220h160v-160H400v160Zm0 220h160v-160H400v160ZM180-400h160v-160H180v160Zm440 0h160v-160H620v160ZM180-180h160v-160H180v160Zm440 0h160v-160H620v160Z\"/>\n",
              "  </svg>\n",
              "    </button>\n",
              "\n",
              "  <style>\n",
              "    .colab-df-container {\n",
              "      display:flex;\n",
              "      gap: 12px;\n",
              "    }\n",
              "\n",
              "    .colab-df-convert {\n",
              "      background-color: #E8F0FE;\n",
              "      border: none;\n",
              "      border-radius: 50%;\n",
              "      cursor: pointer;\n",
              "      display: none;\n",
              "      fill: #1967D2;\n",
              "      height: 32px;\n",
              "      padding: 0 0 0 0;\n",
              "      width: 32px;\n",
              "    }\n",
              "\n",
              "    .colab-df-convert:hover {\n",
              "      background-color: #E2EBFA;\n",
              "      box-shadow: 0px 1px 2px rgba(60, 64, 67, 0.3), 0px 1px 3px 1px rgba(60, 64, 67, 0.15);\n",
              "      fill: #174EA6;\n",
              "    }\n",
              "\n",
              "    .colab-df-buttons div {\n",
              "      margin-bottom: 4px;\n",
              "    }\n",
              "\n",
              "    [theme=dark] .colab-df-convert {\n",
              "      background-color: #3B4455;\n",
              "      fill: #D2E3FC;\n",
              "    }\n",
              "\n",
              "    [theme=dark] .colab-df-convert:hover {\n",
              "      background-color: #434B5C;\n",
              "      box-shadow: 0px 1px 3px 1px rgba(0, 0, 0, 0.15);\n",
              "      filter: drop-shadow(0px 1px 2px rgba(0, 0, 0, 0.3));\n",
              "      fill: #FFFFFF;\n",
              "    }\n",
              "  </style>\n",
              "\n",
              "    <script>\n",
              "      const buttonEl =\n",
              "        document.querySelector('#df-a824d5dd-f178-4815-b1c4-13e5bc201ebd button.colab-df-convert');\n",
              "      buttonEl.style.display =\n",
              "        google.colab.kernel.accessAllowed ? 'block' : 'none';\n",
              "\n",
              "      async function convertToInteractive(key) {\n",
              "        const element = document.querySelector('#df-a824d5dd-f178-4815-b1c4-13e5bc201ebd');\n",
              "        const dataTable =\n",
              "          await google.colab.kernel.invokeFunction('convertToInteractive',\n",
              "                                                    [key], {});\n",
              "        if (!dataTable) return;\n",
              "\n",
              "        const docLinkHtml = 'Like what you see? Visit the ' +\n",
              "          '<a target=\"_blank\" href=https://colab.research.google.com/notebooks/data_table.ipynb>data table notebook</a>'\n",
              "          + ' to learn more about interactive tables.';\n",
              "        element.innerHTML = '';\n",
              "        dataTable['output_type'] = 'display_data';\n",
              "        await google.colab.output.renderOutput(dataTable, element);\n",
              "        const docLink = document.createElement('div');\n",
              "        docLink.innerHTML = docLinkHtml;\n",
              "        element.appendChild(docLink);\n",
              "      }\n",
              "    </script>\n",
              "  </div>\n",
              "\n",
              "\n",
              "<div id=\"df-431fb479-16fe-4766-8e5d-3a2cb4c27424\">\n",
              "  <button class=\"colab-df-quickchart\" onclick=\"quickchart('df-431fb479-16fe-4766-8e5d-3a2cb4c27424')\"\n",
              "            title=\"Suggest charts\"\n",
              "            style=\"display:none;\">\n",
              "\n",
              "<svg xmlns=\"http://www.w3.org/2000/svg\" height=\"24px\"viewBox=\"0 0 24 24\"\n",
              "     width=\"24px\">\n",
              "    <g>\n",
              "        <path d=\"M19 3H5c-1.1 0-2 .9-2 2v14c0 1.1.9 2 2 2h14c1.1 0 2-.9 2-2V5c0-1.1-.9-2-2-2zM9 17H7v-7h2v7zm4 0h-2V7h2v10zm4 0h-2v-4h2v4z\"/>\n",
              "    </g>\n",
              "</svg>\n",
              "  </button>\n",
              "\n",
              "<style>\n",
              "  .colab-df-quickchart {\n",
              "      --bg-color: #E8F0FE;\n",
              "      --fill-color: #1967D2;\n",
              "      --hover-bg-color: #E2EBFA;\n",
              "      --hover-fill-color: #174EA6;\n",
              "      --disabled-fill-color: #AAA;\n",
              "      --disabled-bg-color: #DDD;\n",
              "  }\n",
              "\n",
              "  [theme=dark] .colab-df-quickchart {\n",
              "      --bg-color: #3B4455;\n",
              "      --fill-color: #D2E3FC;\n",
              "      --hover-bg-color: #434B5C;\n",
              "      --hover-fill-color: #FFFFFF;\n",
              "      --disabled-bg-color: #3B4455;\n",
              "      --disabled-fill-color: #666;\n",
              "  }\n",
              "\n",
              "  .colab-df-quickchart {\n",
              "    background-color: var(--bg-color);\n",
              "    border: none;\n",
              "    border-radius: 50%;\n",
              "    cursor: pointer;\n",
              "    display: none;\n",
              "    fill: var(--fill-color);\n",
              "    height: 32px;\n",
              "    padding: 0;\n",
              "    width: 32px;\n",
              "  }\n",
              "\n",
              "  .colab-df-quickchart:hover {\n",
              "    background-color: var(--hover-bg-color);\n",
              "    box-shadow: 0 1px 2px rgba(60, 64, 67, 0.3), 0 1px 3px 1px rgba(60, 64, 67, 0.15);\n",
              "    fill: var(--button-hover-fill-color);\n",
              "  }\n",
              "\n",
              "  .colab-df-quickchart-complete:disabled,\n",
              "  .colab-df-quickchart-complete:disabled:hover {\n",
              "    background-color: var(--disabled-bg-color);\n",
              "    fill: var(--disabled-fill-color);\n",
              "    box-shadow: none;\n",
              "  }\n",
              "\n",
              "  .colab-df-spinner {\n",
              "    border: 2px solid var(--fill-color);\n",
              "    border-color: transparent;\n",
              "    border-bottom-color: var(--fill-color);\n",
              "    animation:\n",
              "      spin 1s steps(1) infinite;\n",
              "  }\n",
              "\n",
              "  @keyframes spin {\n",
              "    0% {\n",
              "      border-color: transparent;\n",
              "      border-bottom-color: var(--fill-color);\n",
              "      border-left-color: var(--fill-color);\n",
              "    }\n",
              "    20% {\n",
              "      border-color: transparent;\n",
              "      border-left-color: var(--fill-color);\n",
              "      border-top-color: var(--fill-color);\n",
              "    }\n",
              "    30% {\n",
              "      border-color: transparent;\n",
              "      border-left-color: var(--fill-color);\n",
              "      border-top-color: var(--fill-color);\n",
              "      border-right-color: var(--fill-color);\n",
              "    }\n",
              "    40% {\n",
              "      border-color: transparent;\n",
              "      border-right-color: var(--fill-color);\n",
              "      border-top-color: var(--fill-color);\n",
              "    }\n",
              "    60% {\n",
              "      border-color: transparent;\n",
              "      border-right-color: var(--fill-color);\n",
              "    }\n",
              "    80% {\n",
              "      border-color: transparent;\n",
              "      border-right-color: var(--fill-color);\n",
              "      border-bottom-color: var(--fill-color);\n",
              "    }\n",
              "    90% {\n",
              "      border-color: transparent;\n",
              "      border-bottom-color: var(--fill-color);\n",
              "    }\n",
              "  }\n",
              "</style>\n",
              "\n",
              "  <script>\n",
              "    async function quickchart(key) {\n",
              "      const quickchartButtonEl =\n",
              "        document.querySelector('#' + key + ' button');\n",
              "      quickchartButtonEl.disabled = true;  // To prevent multiple clicks.\n",
              "      quickchartButtonEl.classList.add('colab-df-spinner');\n",
              "      try {\n",
              "        const charts = await google.colab.kernel.invokeFunction(\n",
              "            'suggestCharts', [key], {});\n",
              "      } catch (error) {\n",
              "        console.error('Error during call to suggestCharts:', error);\n",
              "      }\n",
              "      quickchartButtonEl.classList.remove('colab-df-spinner');\n",
              "      quickchartButtonEl.classList.add('colab-df-quickchart-complete');\n",
              "    }\n",
              "    (() => {\n",
              "      let quickchartButtonEl =\n",
              "        document.querySelector('#df-431fb479-16fe-4766-8e5d-3a2cb4c27424 button');\n",
              "      quickchartButtonEl.style.display =\n",
              "        google.colab.kernel.accessAllowed ? 'block' : 'none';\n",
              "    })();\n",
              "  </script>\n",
              "</div>\n",
              "\n",
              "    </div>\n",
              "  </div>\n"
            ],
            "application/vnd.google.colaboratory.intrinsic+json": {
              "type": "dataframe",
              "variable_name": "messages",
              "summary": "{\n  \"name\": \"messages\",\n  \"rows\": 5572,\n  \"fields\": [\n    {\n      \"column\": \"label\",\n      \"properties\": {\n        \"dtype\": \"category\",\n        \"num_unique_values\": 2,\n        \"samples\": [\n          \"spam\",\n          \"ham\"\n        ],\n        \"semantic_type\": \"\",\n        \"description\": \"\"\n      }\n    },\n    {\n      \"column\": \"message\",\n      \"properties\": {\n        \"dtype\": \"string\",\n        \"num_unique_values\": 5169,\n        \"samples\": [\n          \"K, makes sense, btw carlos is being difficult so you guys are gonna smoke while I go pick up the second batch and get gas\",\n          \"URGENT! Your mobile No *********** WON a \\u00a32,000 Bonus Caller Prize on 02/06/03! This is the 2nd attempt to reach YOU! Call 09066362220 ASAP! BOX97N7QP, 150ppm\"\n        ],\n        \"semantic_type\": \"\",\n        \"description\": \"\"\n      }\n    }\n  ]\n}"
            }
          },
          "metadata": {},
          "execution_count": 8
        }
      ]
    },
    {
      "cell_type": "code",
      "source": [
        "import pandas as pd\n",
        "from sklearn.utils import resample\n",
        "\n",
        "# Load the dataset\n",
        "messages = pd.read_csv('/content/SMSSpamCollection', sep='\\t', names=['label', 'message'])\n",
        "\n",
        "# Separate spam and non-spam messages\n",
        "spam = messages[messages['label'] == 'spam']\n",
        "non_spam = messages[messages['label'] == 'ham']\n",
        "\n",
        "# Undersample non-spam messages to match the number of spam messages\n",
        "non_spam_undersampled = resample(non_spam,\n",
        "                                 replace=False,    # Do not sample with replacement\n",
        "                                 n_samples=len(spam),  # Match the number of spam messages\n",
        "                                 random_state=42)  # For reproducibility\n",
        "\n",
        "# Combine undersampled non-spam with spam\n",
        "undersampled_data = pd.concat([non_spam_undersampled, spam])\n",
        "\n",
        "# Shuffle the dataset\n",
        "undersampled_data = undersampled_data.sample(frac=1, random_state=42).reset_index(drop=True)\n",
        "\n",
        "# Check the number of labels after undersampling\n",
        "print(undersampled_data['label'].value_counts())\n",
        "\n"
      ],
      "metadata": {
        "colab": {
          "base_uri": "https://localhost:8080/"
        },
        "id": "ZTk-3OkClrQw",
        "outputId": "6154615b-16fc-4dc0-8a54-957d42239a9c"
      },
      "execution_count": 2,
      "outputs": [
        {
          "output_type": "stream",
          "name": "stdout",
          "text": [
            "label\n",
            "spam    747\n",
            "ham     747\n",
            "Name: count, dtype: int64\n"
          ]
        }
      ]
    },
    {
      "cell_type": "markdown",
      "source": [
        "# **Data Cleaning and Pre Processing**"
      ],
      "metadata": {
        "id": "F_WPzlVkpdDi"
      }
    },
    {
      "cell_type": "code",
      "source": [
        "import re\n",
        "import nltk\n",
        "from nltk.corpus import stopwords\n",
        "from nltk.stem.porter import PorterStemmer\n",
        "from sklearn.feature_extraction.text import CountVectorizer\n",
        "from sklearn.model_selection import train_test_split\n",
        "\n",
        "# Ensure NLTK resources are downloaded\n",
        "nltk.download('stopwords')\n",
        "\n",
        "# Initialize stemmer\n",
        "ps = PorterStemmer()\n",
        "# Create a cleaned corpus from the undersampled data\n",
        "corpus = []\n",
        "for i in range(len(undersampled_data)):\n",
        "    # Remove non-alphabetic characters and convert to lowercase\n",
        "    review = re.sub('[^a-zA-Z]', ' ', undersampled_data['message'].iloc[i])\n",
        "    review = review.lower()\n",
        "    review = review.split()\n",
        "    # Stem and remove stopwords\n",
        "    review = [ps.stem(word) for word in review if word not in stopwords.words('english')]\n",
        "    review = ' '.join(review)\n",
        "    corpus.append(review)"
      ],
      "metadata": {
        "colab": {
          "base_uri": "https://localhost:8080/"
        },
        "id": "eUBjbvudpb9g",
        "outputId": "63562d61-20d8-47e5-ae53-f5978813f172"
      },
      "execution_count": 10,
      "outputs": [
        {
          "output_type": "stream",
          "name": "stderr",
          "text": [
            "[nltk_data] Downloading package stopwords to /root/nltk_data...\n",
            "[nltk_data]   Package stopwords is already up-to-date!\n"
          ]
        }
      ]
    },
    {
      "cell_type": "code",
      "source": [
        "corpus"
      ],
      "metadata": {
        "colab": {
          "base_uri": "https://localhost:8080/"
        },
        "id": "pN4lxW510B0R",
        "outputId": "048d1c08-7847-45d2-c490-96a621689e70"
      },
      "execution_count": 11,
      "outputs": [
        {
          "output_type": "execute_result",
          "data": {
            "text/plain": [
              "['urgent import inform user today lucki day find log onto http www urawinn com fantast surpris await',\n",
              " 'panason bluetoothhdset free nokia free motorola free doublemin doubletxt orang contract call mobileupd call optout',\n",
              " 'want new video handset time network min unlimit text camcord repli call del sat',\n",
              " 'hi ur lookin sauci daytim fun wiv busti marri woman free next week chat sort time janinexx call minmobsmorelkpobox hp fl',\n",
              " 'urgent mobil xxxxxxxxx bonu caller prize nd attempt reach call asap',\n",
              " 'exhaust train morn much wine pie sleep well',\n",
              " 'oh howda gud gud math en samachara chikku',\n",
              " 'dear hero leav qatar tonit apt opportun pl keep touch lt email gt kerala',\n",
              " 'great offic today',\n",
              " 'oooh bed ridden ey think',\n",
              " 'u secret admir look make contact u find r reveal think ur special call',\n",
              " 'sent ur email id soon',\n",
              " 'free messag jamster get crazi frog sound poli text mad real text mad crazi sound gbp week c appli',\n",
              " 'privat account statement show un redeem point call identifi code expir',\n",
              " 'oic co n si got lunch today dad went dunno whether eat sch wat',\n",
              " 'hey check da list da',\n",
              " 'urgent mobil number award prize guarante call land line claim valid hr',\n",
              " 'alrit',\n",
              " 'want new video phone anytim network min text five pound per week call repli deliveri tomorrow',\n",
              " 'engalnd telli decid let watch mia elliot kiss damn',\n",
              " 'said look pretti wif long hair wat thk cut quit short leh',\n",
              " 'urgent tri contact last weekend draw show prize guarante call claim code valid hr',\n",
              " 'go ok na',\n",
              " 'aiyo u poor thing u dun wan eat u bath alreadi',\n",
              " 'derp wors dude alway want parti dude file complaint three drug abus live',\n",
              " 'valu custom pleas advis follow recent review mob award bonu prize call',\n",
              " 'sm auction brand new nokia auction today auction free join take part txt nokia',\n",
              " 'u r subscrib textcomp wkli comp st wk free question follow subsequ wk charg p msg unsubscrib txt stop custcar',\n",
              " 'six chanc win cash pound txt csh send cost p day day tsandc appli repli hl info',\n",
              " 'im snowboard trip wonder plan get everyon togeth befor go meet greet kind affair cheer',\n",
              " 'hurt teas make cri end life die plz keep one rose grave say stupid miss u nice day bslvyl',\n",
              " 'fine good hear dear happi new year oh',\n",
              " 'valentin day special win quiz take partner trip lifetim send go p msg rcvd custcar',\n",
              " 'someon conact date servic enter phone fanci find call landlin pobox n tf',\n",
              " 'free st week nokia tone ur mob everi week txt nokia get txting tell ur mate www getz co uk pobox w wq norm p tone',\n",
              " 'urgent week free membership prize jackpot txt word claim c www dbuk net lccltd pobox ldnw rw',\n",
              " 'dont understand messag',\n",
              " 'get garden readi summer free select summer bulb seed worth scotsman saturday stop go notxt co uk',\n",
              " 'ok set let u noe e detail later',\n",
              " 'lag sad part keep touch thank skype',\n",
              " 'k sure get noon see',\n",
              " 'rcv msg chat svc free hardcor servic text go u get noth u must age verifi yr network tri',\n",
              " 'remind download content alreadi paid goto http doit mymobi tv collect content',\n",
              " 'sorri miss call let talk time',\n",
              " 'bear pic nick tom pete dick fact type tri gay chat photo upload call p min stop text call',\n",
              " 'wonder other took',\n",
              " 'hi sue year old work lapdanc love sex text live bedroom text sue textoper g da ppmsg',\n",
              " 'sm servic inclus text credit pl goto www comuk net login unsubscrib stop extra charg help po box ip',\n",
              " 'ok prob',\n",
              " 'want new video phone anytim network min inclus video call download per week free deltomorrow call repli',\n",
              " 'get opinion someth first',\n",
              " 'congrat mobil g videophon r call videochat wid ur mate play java game dload polyph music nolin rentl bx ip p',\n",
              " 'check got detail messag',\n",
              " 'moment day valu morn bring hope afternoon bring faith even bring luv night bring rest wish u find today good morn',\n",
              " 'p per min call germani bt line p per min check planettalkinst com info c text stop opt',\n",
              " 'hear loud scream lt gt minut caus gyno shove thing belong',\n",
              " 'hey want crave miss need love ahmad saeed al hallaq',\n",
              " 'want explicit sex sec ring cost p min',\n",
              " 'come home class right need work shower',\n",
              " 'mani day sinc',\n",
              " 'much buzi',\n",
              " 'sparkl shop break per person call visit www shortbreak org uk',\n",
              " 'wanna get laid nite want real dog locat sent direct ur mobil join uk largest dog network txt park nyt ec lp msg',\n",
              " 'see',\n",
              " 'well done england get offici poli rington colour flag yer mobil text tone flag opt txt eng stop box w wx',\n",
              " 'call germani penc per minut call fix line via access number prepay direct access www telediscount co uk',\n",
              " 'sorri u unsubscrib yet mob offer packag min term week pl resubmit request expiri repli themob help info',\n",
              " 'know lab goggl went',\n",
              " 'love brother time talk english grin say hey muhommad penni say hello across sea',\n",
              " 'tri contact repli offer video handset anytim network min unlimit text camcord repli call',\n",
              " 'go sleep tire travel',\n",
              " 'get brand new mobil phone agent mob plu load goodi info text mat',\n",
              " 'monthli password wap mobsi com use wap phone pc',\n",
              " 'jade paul u txt u rememb barm want talk u txt',\n",
              " 'freemsg hey buffi love satisfi men home alon feel randi repli c pix qlynnbv help p msg send stop stop txt',\n",
              " 'stand away heart ach without wonder crave',\n",
              " 'crucifi c told earlier',\n",
              " 'okay thought expert',\n",
              " 'u love someon dont make love u much u love much dont want love anyon except gud nit',\n",
              " 'ok',\n",
              " 'ye place town meet excit adult singl uk txt chat p msg',\n",
              " 'yeah got v apologet n fallen actin like spoilt child got caught till go badli cheer',\n",
              " 'hey realli pretti late want go lesson first join reach tp mrt',\n",
              " 'u r winner u ave special select receiv cash holiday flight inc speak live oper claim p min',\n",
              " 'sweetheart hope kind day one load reason smile biola',\n",
              " 'stupid possibl',\n",
              " 'ur balanc ur next question sang uptown girl answer txt ur answer good luck',\n",
              " 'link pictur sent also use http alto co uk wave wave asp',\n",
              " 'like talk pa abl dont know',\n",
              " 'promot number ur award citi break could win summer shop spree everi wk txt store skilgm tsc winawk age perwksub',\n",
              " 'guarante cash prize claim yr prize call custom servic repres',\n",
              " 'congratul ur award cd voucher gift guarante free entri wkli draw txt music',\n",
              " 'vikki come around lt time gt',\n",
              " 'gent tri contact last weekend draw show prize guarante call claim code k valid hr ppm',\n",
              " '',\n",
              " 'urgent week free membership prize jackpot txt word claim c www dbuk net lccltd pobox ldnw rw',\n",
              " 'competit',\n",
              " 'dont know oh hope month',\n",
              " 'eastend tv quiz flower dot compar violet e tulip f lili txt e f chanc win cash wkent p',\n",
              " 'congrat year special cinema pass call c suprman v matrix starwar etc free bx ip pm dont miss',\n",
              " 'sorri call later',\n",
              " 'hui xin da lib',\n",
              " 'sm ac sptv new jersey devil detroit red wing play ice hockey correct incorrect end repli end sptv',\n",
              " 'day kick euro u kept date latest news result daili remov send get txt stop',\n",
              " 'urgent call landlin complimentari ibiza holiday cash await collect sae cs po box sk wp ppm',\n",
              " 'tri weekend v',\n",
              " 'jokin lar depend phone father get lor',\n",
              " 'true dear sat pray even felt sm time',\n",
              " 'size eleph tablet u shove um ur ass',\n",
              " 'one small prestig problem',\n",
              " 'dont know support ass srt thnk think ps play usb',\n",
              " 'free top rington sub weekli rington get st week free send subpoli per week stop sm',\n",
              " 'mobil number claim call us back ring claim hot line',\n",
              " 'free rington wait collect simpli text password mix verifi get usher britney fml po box mk h ppw',\n",
              " 'sorri call later',\n",
              " 'marri local women look discreet action real match instantli phone text match msg cost p stop txt stop bcmsfwc n xx',\n",
              " 'knock knock txt whose enter r weekli draw gift voucher store yr choic cs www tkl com age stoptxtstop week',\n",
              " 'santa call would littl one like call santa xma eve call book time',\n",
              " 'could read love answer',\n",
              " 'sm servic inclus text credit pl gotto www comuk net login qxj unsubscrib stop extra charg help comuk cm ae',\n",
              " 'goal arsen henri v liverpool henri score simpl shot yard pass bergkamp give arsen goal margin min',\n",
              " 'well like actual call someon punto woulda wors',\n",
              " 'contact date servic someon know find call mobil landlin pobox ldn',\n",
              " 'ree entri weekli comp chanc win ipod txt pod get entri std txt rate c appli detail',\n",
              " 'da birthdat certif april real date today dont publish shall give special treat keep secret way thank wish',\n",
              " 'happi new year melodi',\n",
              " 'eeri nokia tone u rpli tone titl eg tone dracula titl ghost addamsfa munster exorcist twilight www getz co uk pobox w wq p',\n",
              " 'messag text miss sender name miss number miss sent date miss miss u lot that everyth miss sent via fullonsm com',\n",
              " 'ok let u noe leav hous',\n",
              " 'got tallent wast',\n",
              " 'thing chang sentenc want concentr educ career im leav',\n",
              " 'yo dude guess got arrest day',\n",
              " 'last chanc claim ur worth discount voucher today text shop savamob offer mobil cs savamob pobox uz sub',\n",
              " 'guarante latest nokia phone gb ipod mp player prize txt word collect ibhltd ldnw h p mtmsgrcvd',\n",
              " 'much buzi',\n",
              " 'also rememb get dobbi bowl car',\n",
              " 'hi babe jordan r u im home abroad lone text back u wanna chat xxsp visionsm com text stop stopcost p',\n",
              " 'pleas call custom servic repres pm guarante cash prize',\n",
              " 'new voicemail pleas call',\n",
              " 'hey elain today meet still',\n",
              " 'current lead bid paus auction send custom care',\n",
              " 'make sure alex know birthday fifteen minut far concern',\n",
              " 'believ true incred txt repli g learn truli amaz thing blow mind fwd p txt',\n",
              " 'guy browsin compulsori',\n",
              " 'hey come onlin use msn',\n",
              " 'day euro kickoff u kept inform latest news result daili unsubscrib send get euro stop',\n",
              " 'ye gauti sehwag odi seri',\n",
              " 'rip get mobil content www clubmobi com call poli true pix rington game six download',\n",
              " 'award sipix digit camera call landlin deliveri within day cs box bp yr warranti ppm p p',\n",
              " 'call listen extrem dirti live chat go offic right total privaci one know sic listen p min mp',\n",
              " 'hmv bonu special pound genuin hmv voucher answer easi question play send hmv info www percent real com',\n",
              " 'sorri call later',\n",
              " 'latest nokia mobil ipod mp player proze guarante repli win norcorp ltd mtmsgrcvd',\n",
              " 'download mani rington u like restrict choos u even send yr buddi txt sir',\n",
              " 'someon u know ask date servic contact cant guess call reveal pobox xy p',\n",
              " 'block breaker come delux format new featur great graphic mobil buy repli get bbdelux take challeng',\n",
              " 'hi ibh custom loyalti offer new nokia mobil txtauction txt word start get',\n",
              " 'thk lor dunno get ticket wat u',\n",
              " 'late k wish',\n",
              " 'fact clean show know upset prioriti constantli want need',\n",
              " 'mmm yummi babe nice jolt suzi',\n",
              " 'realli good see day dudett miss',\n",
              " 'see prolli yeah',\n",
              " 'like new hous',\n",
              " 'ok lor anyway thk cant get ticket co like quit late alreadi u wan go look ur fren darren wif',\n",
              " 'speak bcaz mobil problem listen cann listen voic call later',\n",
              " 'sunshin hol claim ur med holiday send stamp self address envelop drink us uk po box bray wicklow eir quiz start saturday unsub stop',\n",
              " 'doubl min txt orang tariff latest motorola sonyericsson nokia bluetooth free call mobileupd call optout hf',\n",
              " 'day class class',\n",
              " 'hi mobil lt gt ad contact list www fullonsm com great place send free sm peopl visit fullonsm com',\n",
              " 'rct thnq adrian u text rgd vatian',\n",
              " 'mode men left',\n",
              " 'goldvik invit friend repli ye see www sm ac u goldvik stop send stop frnd',\n",
              " 'hey go quit soon xuhui work till end month',\n",
              " 'custom servic announc recent tri make deliveri unabl pleas call schedul ref',\n",
              " 'goodmorn today late hr back pain',\n",
              " 'babe goe day sip cappuccino think love send kiss across sea',\n",
              " 'tell drug dealer get impati',\n",
              " 'see miss call dear brother gr day',\n",
              " 'got like lt gt get later though get whatev feel like',\n",
              " 'u reckon need arrang transport u thank',\n",
              " 'congrat mobil g videophon r call videochat wid ur mate play java game dload polyh music nolin rentl bx ip pm',\n",
              " 'hey chief give bell get need talk royal visit st june',\n",
              " 'free st week nokia tone ur mobil everi week txt nokia get txting tell ur mate www getz co uk pobox w wq norm p tone',\n",
              " 'privat account statement show un redeem point call identifi code expir',\n",
              " 'mani happi return day wish happi birthday',\n",
              " 'yo around friend mine lookin pick later tonight',\n",
              " 'back work morro half term u c nite sexi passion b go back chat luv dena call minmobsmorelkpobox hp fl',\n",
              " 'nope think go monday sorri repli late',\n",
              " 'arngd marriag u r walkin unfortuntli snake bite u bt love marriag danc frnt snake amp sayin bite bite',\n",
              " 'dear voucher holder claim st class airport loung pass use holiday voucher call book quot st class x',\n",
              " 'u get phone wanna chat set meet call u cum moro luv jane xx call minmoremobsemspobox po wa',\n",
              " 'ringtonek',\n",
              " 'mobil mth updat free orang latest colour camera mobil unlimit weekend call call mobil upd freefon stoptx',\n",
              " 'hello love get interview today happi good boy think miss',\n",
              " 'anyth lor u decid',\n",
              " 'girl stay bed girl need recoveri time id rather pass fun coop bed',\n",
              " 'avatar suppos subtoitl',\n",
              " 'ou guarante latest nokia phone gb ipod mp player prize txt word collect ibhltd ldnw h p mtmsgrcvd',\n",
              " 'join uk horniest dog servic u sex nite sign follow instruct txt entri nyt ec lp msg p',\n",
              " 'welcom uk mobil date msg free give free call futur mg bill p daili cancel send go stop',\n",
              " 'ok finish soon',\n",
              " 'pl help tell ashley cant find number oh',\n",
              " 'ur cash balanc current pound maxim ur cash send collect p msg cc po box tcr w',\n",
              " 'wow never realiz embarass accomod thought like sinc best could alway seem happi cave sorri give sorri offer sorri room embarass',\n",
              " 'oh yah never cancel leh haha',\n",
              " 'love u littl poci bell sorri love u',\n",
              " 'yeah imma come caus jay want drug',\n",
              " 'guarante cash prize claim yr prize call custom servic repres pm cost p',\n",
              " 'part check iq',\n",
              " 'littl darl far week need coffe run tomo believ time week alreadi',\n",
              " 'updat mth half price orang line rental min call mobileupd call optout j q',\n",
              " 'lastest stereophon marley dizze racal libertin stroke win nookii game flirt click themob wap bookmark text wap',\n",
              " 'nokia get win free auction take part send nokia hg suit land row w jhl',\n",
              " 'congratul u claim vip row ticket c blu concert novemb blu gift guarante call claim ts cs www smsco net cost max',\n",
              " 'urgent nd attempt contact u prize yesterday still await collect claim call',\n",
              " 'sm servic inclus text credit pl goto www comuk net login qxj unsubscrib stop extra charg help comuk cm ae',\n",
              " 'seen facebook huh lol',\n",
              " 'get gift year didnt get anyth bad',\n",
              " 'sorri call later',\n",
              " 'pm cost p',\n",
              " 'take part mobil survey yesterday text use howev wish get txt send txt c www txt com p',\n",
              " 'way',\n",
              " 'aight hit get cash',\n",
              " 'winner u special select receiv holiday flight inc speak live oper claim p min',\n",
              " 'lol realli need rememb eat drink appreci keep compani night babe smile',\n",
              " 'give plu said grinul greet whenev speak',\n",
              " 'freemsg month unlimit free call activ smartcal txt call subscriptn gbp wk unlimit call help stop txt stop landlineonli',\n",
              " 'urgent nd attempt contact u prize yesterday still await collect claim call acl pm',\n",
              " 'dear u invit xchat final attempt contact u txt chat p msgrcvdhg suit land row w j hl ldn yr',\n",
              " 'g say never answer text confirm deni',\n",
              " 'messag free welcom new improv sex dog club unsubscrib servic repli stop msg p',\n",
              " 'want explicit sex sec ring cost p min gsex pobox wc n xx',\n",
              " 'guarante cash prize claim yr prize call custom servic repres pm cost p',\n",
              " 'congrat mobil g videophon r call videochat wid ur mate play java game dload polyph music nolin rentl bx ip p',\n",
              " 'eeri nokia tone u rpli tone titl eg tone dracula titl ghost addamsfa munster exorcist twilight www getz co uk pobox w wq p',\n",
              " 'congratul winner august prize draw call prize code',\n",
              " 'thank winner notifi sm good luck futur market repli stop custom servic',\n",
              " 'free msg sorri servic order could deliv suffici credit pleas top receiv servic',\n",
              " 'bold lt gt',\n",
              " 'good good job like entrepreneur',\n",
              " 'guarante latest nokia phone gb ipod mp player prize txt word collect ibhltd ldnw h p mtmsgrcvd',\n",
              " 'stop call everyon say might cancer throat hurt talk answer everyon call get one call babysit monday',\n",
              " 'thk gotta go home urself co b go shop fren present',\n",
              " 'costa del sol holiday await collect call toclaim sae tc pobox stockport sk xh cost pm max min',\n",
              " 'new tone week includ mcfli ab sara jorg shock smith switch order follow instruct next messag',\n",
              " 'worri finish march ish',\n",
              " 'mth half price orang line rental latest camera phone free phone mth call mobilesdirect free updat stoptxt',\n",
              " 'save money wed lingeri www bridal petticoatdream co uk choos superb select nation deliveri brought weddingfriend',\n",
              " 'free day sexi st georg day pic jordan txt pic dont miss everi wk sauci celeb pic c pocketbab co uk wk',\n",
              " 'dorothi kiefer com bank granit issu strong buy explos pick member nasdaq symbol cdgt per',\n",
              " 'review keep fantast nokia n gage game deck club nokia go www cnupdat com newslett unsubscrib alert repli word',\n",
              " 'nope meanwhil talk say make greet',\n",
              " 'think ur smart win week weekli quiz text play cs winnersclub po box uz gbp week',\n",
              " 'urgent mobil award bonu caller prize nd attempt contact call box qu bt nation rate',\n",
              " 'love excit day spend make happi',\n",
              " 'sorri call later meet sir',\n",
              " 'know u u know send chat let find p msg rcvd hg suit land row w j hl ldn year',\n",
              " 'free unlimit hardcor porn direct mobil txt porn get free access hr chrgd p per day txt stop exit msg free',\n",
              " 'well done england get offici poli rington colour flag yer mobil text tone flag opt txt eng stop box w wx',\n",
              " 'gokila talk aha',\n",
              " 'weekli cool mob tone readi download week new tone includ crazi frog axel f akon lone black eye dont p info n',\n",
              " 'sale arsen dartboard good condit doubl trebl',\n",
              " 'decemb mobil mth entitl updat latest colour camera mobil free call mobil updat vco free',\n",
              " 'feel alway happi slowli becom habit amp final becom part life follow happi morn amp happi day',\n",
              " 'wan come come lor din c stripe skirt',\n",
              " 'serious spell name',\n",
              " 'free call sir',\n",
              " 'keep go never intent run choos rather keep room clean say visitor mayb best choic ye want embarass mayb feel feel friend want drop buy say happen morn tri everyth know els',\n",
              " 'cant pick phone right pl send messag',\n",
              " 'symptom u love u like listen song u get stop u see name belov u get angri',\n",
              " 'free rington repli real',\n",
              " 'rington club get uk singl chart mobil week choos top qualiti rington messag free charg',\n",
              " 'thank vote sing along star karaok mobil free link repli sing',\n",
              " 'reciev tone within next hr term condit pleas see channel u teletext pg',\n",
              " 'zoe hit im fuck shitin il defo tri hardest cum morow luv u million lekdog',\n",
              " 'welcom pleas repli age gender begin e g',\n",
              " 'actual exam harder nbme',\n",
              " 'pleas call immedi urgent messag wait',\n",
              " 'dont send plu mode',\n",
              " 'urgent mobil award bonu caller prize final attempt contact u call',\n",
              " 'free entri weekli competit text word win c www txttowin co uk',\n",
              " 'urgent tri contact u today draw show prize guarante call land line claim valid hr',\n",
              " 'come aliv better correct good look figur',\n",
              " 'dont give monkey wot think certainli mind friend mine sleep wiv wud annoyin',\n",
              " 'student solv cat question xam lt gt lt gt lt gt tell answer u r brilliant thing got answr',\n",
              " 'urgent tri contact last weekend draw show prize guarante call claim code k valid hour',\n",
              " 'sorri da gone mad mani pend work',\n",
              " 'valu vodafon custom comput pick win prize collect easi call',\n",
              " 'someon u know ask date servic contact cant guess call reveal po box wu',\n",
              " 'ever notic drive anyon go slower idiot everyon drive faster maniac',\n",
              " 'good friend care close friend understand true friend stay forev beyond word beyond time gud ni',\n",
              " 'free msg get gnarl barkley crazi rington total free repli go messag right',\n",
              " 'urgent pleas call landlin cash luxuri canari island holiday await collect cs sae award aq ppm',\n",
              " 'urgent mobil number award prize guarante call land line claim valid hr ppm',\n",
              " 'thank rington order ref number k mobil charg tone arriv pleas call custom servic',\n",
              " 'free msg rington http tm widel com index wml id b ecef ff first true jul',\n",
              " 'miss call alert number call left messag',\n",
              " 'hey dont go watch x men lunch haha',\n",
              " 'want ask wait finish lect co lect finish hour anyway',\n",
              " 'sorri call later',\n",
              " 'hello darl today would love chat dont tell look like sexi',\n",
              " 'omg one thing anoth cat worm bad day end',\n",
              " 'repli name address receiv post week complet free accommod variou global locat www phb com ph p',\n",
              " 'urgent last weekend draw show cash spanish holiday call claim c rstm sw ss ppm',\n",
              " 'ur cash balanc current pound maxim ur cash send go p meg cc hg suit land row w j hl',\n",
              " 'cashbin co uk get lot cash weekend www cashbin co uk dear welcom weekend got biggest best ever cash give away',\n",
              " 'one teach ship car',\n",
              " 'big brother alert comput select u k cash voucher call ntt po box cro bt landlin cost ppm mobil vari',\n",
              " 'shop till u drop either k k cash travel voucher call ntt po box cr bt fixedlin cost ppm mobil vari',\n",
              " 'real babi want bring inner tigress',\n",
              " 'hey late amk need drink tea coffe',\n",
              " 'tkt euro cup final cash collect call b pobox ppm',\n",
              " 'messag responc happend',\n",
              " 'ur cash balanc current pound maxim ur cash send cash p msg cc hg suit land row w j hl',\n",
              " 'believ true incred txt repli g learn truli amaz thing blow mind fwd p txt',\n",
              " 'hi harish rent transfr ur acnt',\n",
              " 'urgent call landlin complementari tenerif holiday cash await collect sae cs po box wa px ppm sender hol offer',\n",
              " 'hi spoke maneesha v like know satisfi experi repli toll free ye',\n",
              " 'doubl min txt month free bluetooth orang avail soni nokia motorola phone call mobileupd call optout n dx',\n",
              " 'hey boy want hot xxx pic sent direct ur phone txt porn hr free p per day stop text stopbcm sf wc n xx',\n",
              " 'repli boy chang phone number',\n",
              " 'mum hope great day hope text meet well full life great day abiola',\n",
              " 'cant pick phone right pl send messag',\n",
              " 'dear voucher holder next meal us use follow link pc enjoy dine experiencehttp www vouch com etlp dine asp',\n",
              " 'nobodi decid eat dad want chines',\n",
              " 'wyli tampa sarasota',\n",
              " 'decemb mobil mth entitl updat latest colour camera mobil free call mobil updat co free',\n",
              " 'wanna laugh tri chit chat mobil logon txting word chat send cm po box london w zf p msg rcvd',\n",
              " 'burger king wanna play footi top stadium get burger king st sept go larg super coca cola walk winner',\n",
              " 'sorri sir call tomorrow senthil hsbc',\n",
              " 'otherwis part time job na tuition',\n",
              " 'got take take part wrc ralli oz u lucozad energi text ralli le p see pack lucozad co uk wrc itcould u',\n",
              " 'ok wahala rememb friend need',\n",
              " 'see see mayb reboot ym seen buzz',\n",
              " 'ur cash balanc current pound maxim ur cash send cash p msg cc po box tcr w',\n",
              " 'free entri weekli comp chanc win ipod txt pod get entri std txt rate c appli detail',\n",
              " 'ye pleas swim',\n",
              " 'congratul thank good friend u xma prize claim easi call p per minut bt nation rate',\n",
              " 'sorri light turn green meant anoth friend want lt gt worth may around',\n",
              " 'free rington repli real poli eg real pushbutton dontcha babygoodby golddigg webeburnin st tone free u join wk',\n",
              " 'phoni award today voda number end xxxx select receiv award match pleas call quot claim code standard rate app',\n",
              " 'show ur colour euro offer get england flag lion tone ur phone click follow servic messag info',\n",
              " 'wish famili merri x ma happi new year advanc',\n",
              " 'ur award citi break could win summer shop spree everi wk txt store skilgm tsc winawk age perwksub',\n",
              " 'hello orang month free access game news sport plu free text photo messag repli ye term appli www orang co uk ow',\n",
              " 'free messag activ free text messag repli messag word free term condit visit www com',\n",
              " 'damn make tonight want wait til tomorrow',\n",
              " 'run manag minut need oxygen might resort roller option',\n",
              " 'hey anyway',\n",
              " 'want new nokia colour phone deliveredtomorrow free minut mobil free text free camcord repli call',\n",
              " 'absolut love south park recent start watch offic',\n",
              " 'thank rington order refer charg gbp per week unsubscrib anytim call custom servic',\n",
              " 'tomorrow onward eve work',\n",
              " 'free entri wkli comp win fa cup final tkt st may text fa receiv entri question std txt rate c appli',\n",
              " 'nope c',\n",
              " 'wud never mind u dont miss u dont need u wil realli hurt wen u need amp u dont tell take care',\n",
              " 'tri contact respons offer new nokia fone camcord hit repli call deliveri',\n",
              " 'u secret admir look make contact u find r reveal think ur special call',\n",
              " 'messag sent askin lt gt dollar shoul pay lt gt lt gt',\n",
              " 'ur go bahama callfreefon speak live oper claim either bahama cruis cash opt txt x',\n",
              " 'great p diddi neighbor come toothpast everi morn',\n",
              " 'urgent call landlin complimentari tenerif holiday cash await collect sae cs box hp yf ppm',\n",
              " 'common hearin r u wat r u ur day let ask u someth differ u smile today gud evng',\n",
              " 'http tm widel com index wml id ad first true c c rington',\n",
              " 'hmm uncl inform pay school directli pl buy food',\n",
              " 'look like found someth smoke great job',\n",
              " 'yep like pink furnitur tho',\n",
              " 'urgent costa del sol holiday await collect call toclaim sae tc pobox stockport sk xh cost pm max min',\n",
              " 'catch bu fri egg make tea eat mom left dinner feel love',\n",
              " 'urgent costa del sol holiday await collect call toclaim sae tc pobox stockport sk xh cost pm max min',\n",
              " 'date servic cal l box sk ch',\n",
              " 'auction round highest bid next maximum bid bid send bid e g bid good luck',\n",
              " 'guarante award mayb even cash claim ur award call free legitimat efreefon number wat u think',\n",
              " 'check room befor activ',\n",
              " 'call cost guess isnt bad miss ya need ya want ya love ya',\n",
              " 'r u contin',\n",
              " 'thank rington order refer number x mobil charg tone arriv pleas call custom servic colour red text colour txtstar',\n",
              " 'get ur st rington free repli msg tone gr top tone phone everi week per wk opt send stop',\n",
              " 'eh den sat u book e kb liao huh',\n",
              " 'someon contact date servic enter phone fanci find call landlin pobox n tf p',\n",
              " 'singl line big mean miss anyth ur best life miss ur best life anyth gud nyt',\n",
              " 'heard u call rude chat privat line cum wan c pic gettin shag text pix end send stop sam xxx',\n",
              " 'contact date servic someon know find call land line pobox w tg p',\n",
              " 'blanket suffici thx',\n",
              " 'thank subscript rington uk mobil charg month pleas confirm repli ye repli charg',\n",
              " 'know someon know fanci call find pobox ls hb p',\n",
              " 'someonon know tri contact via date servic find could call mobil landlin box sk ch',\n",
              " 'want come onlin',\n",
              " 'sexi singl wait text age follow gender wither f e g f gay men text age follow g e g g',\n",
              " 'hurri home u big butt hang last caller u food done starv ask cook',\n",
              " 'list buyer',\n",
              " 'congrat nokia video camera phone call call cost ppm ave call min vari mobil close post bcm ldn wc n xx',\n",
              " 'sorri got thing may pub later',\n",
              " 'rock yr chik get filthi film xxx pic yr phone rpli filth saristar ltd e yt p per day stop cancel',\n",
              " 'u want xma free text messag new video phone half price line rental call free find',\n",
              " 'urgent pleas call landlin cash luxuri canari island holiday await collect cs sae po box xy ppm',\n",
              " 'welcom select servic ad benefit call special train advisor free mobil diall',\n",
              " 'free messag activ free text messag repli messag word free term condit visit www com',\n",
              " 'pleas da call mistak side sorri da pl da goto doctor',\n",
              " 'want anytim network min text new video phone five pound per week call repli deliveri tomorrow',\n",
              " 'right meanwhil project twin comin',\n",
              " 'dear reach room',\n",
              " 'cuz ibor wanna studi',\n",
              " 'luck catch put',\n",
              " 'nd time tri contact u u pound prize claim easi call p per min bt nation rate',\n",
              " 'awesom plan get time like lt gt text detail wee bit',\n",
              " 'want new nokia colour phone deliv tomorrow free minut mobil free text free camcord repli call',\n",
              " 'come tomorrow di',\n",
              " 'price claim call',\n",
              " 'natalja f invit friend repli ye see www sm ac u nat stop send stop frnd',\n",
              " 'cthen thk shd b enuff still got conclus n content pg n refer b da content pg n cover pg',\n",
              " 'u bin award play instant cash call claim everi th player win min optout',\n",
              " 'gentl princess make sweet gentl love',\n",
              " 'themob hit link get premium pink panther game new sugabab crazi zebra anim badass hoodi wallpap free',\n",
              " 'home',\n",
              " 'rodger burn msg tri call repli sm free nokia mobil free camcord pleas call deliveri tomorrow',\n",
              " 'think u x',\n",
              " 'somewher fredericksburg',\n",
              " 'hungri gay guy feel hungri call p min stop text call p min',\n",
              " 'sorri call later',\n",
              " 'win newest harri potter order phoenix book repli harri answer question chanc first among reader',\n",
              " 'heart empti without love mind empti without wisdom eye r empti without dream amp life empti without frnd alwi touch good night amp sweet dream',\n",
              " 'parent kidz friend n colleagu scream surpris wait sofa nake',\n",
              " 'p alfi moon children need song ur mob tell ur txt tone chariti nokia poli chariti poli zed profit chariti',\n",
              " 'ur chanc win wkli shop spree txt shop c www txt shop com custcar x p wk',\n",
              " 'haha awesom might need take doin tonight',\n",
              " 'wat time u finish ur lect today',\n",
              " 'k k special today',\n",
              " 'aiya discuss later lar pick',\n",
              " 'u haf keep busi',\n",
              " 'free text msg text ok credit account',\n",
              " 'pub',\n",
              " 'laid airtel line rest',\n",
              " 'import custom servic announc call freephon',\n",
              " 'nokia tone ur mob everi week txt nok st tone free get txtin tell ur friend p tone repli hl info',\n",
              " 'get offici england poli rington colour flag yer mobil tonight game text tone flag optout txt eng stop box w wx',\n",
              " 'lol wtf random btw lunch break',\n",
              " 'cool text',\n",
              " 'stand',\n",
              " 'xma prize draw tri contact u today draw show prize guarante call land line valid hr',\n",
              " 'hot live fantasi call p per min ntt ltd po box croydon cr wb k',\n",
              " 'hmv bonu special pound genuin hmv voucher answer easi question play send hmv info www percent real com',\n",
              " 'tri call repli sm video mobil min unlimit text free camcord repli call',\n",
              " 'nd time tri contact u u pound prize claim easi call p per minut bt nation rate',\n",
              " 'nd time tri contact u u pound prize claim easi call p per min bt nation rate',\n",
              " 'monday next week give full gist',\n",
              " 'oh u must taken real valentin shop first',\n",
              " 'hello need posh bird chap user trial prod champney put need address dob asap ta r',\n",
              " 'great hear settl well happenin wit ola',\n",
              " 'anybodi number still thought tact way ask alex',\n",
              " 'dont want hear anyth',\n",
              " 'nice new shirt thing wear nudist theme mu',\n",
              " 'hello love goe day wish well fine babe hope find job prospect miss boytoy teas kiss',\n",
              " 'nah wednesday bring mini cheeto bag',\n",
              " 'urgent mobil award bonu caller prize final tri contact u call landlin box wr c ppm',\n",
              " 'ok',\n",
              " 'good good billi mate gone jog enjoy concert',\n",
              " 'themob check newest select content game tone gossip babe sport keep mobil fit funki text wap',\n",
              " 'ya take ure practic lesson start june',\n",
              " 'new mobil must go txt nokia collect today www tc biz optout gbp mtmsg txtauction',\n",
              " 'cool come like lt gt ish',\n",
              " 'forward hi mailbox messag sm alert messag match pleas call back retriev messag match',\n",
              " 'webpag avail',\n",
              " 'forward free entri weekli comp send word enter c www textcomp com',\n",
              " 'reach home n bath liao u call',\n",
              " 'sorri go home first daddi come fetch later',\n",
              " 'hurri weed defici like three day',\n",
              " 'txting drive',\n",
              " 'today vodafon number end select receiv award number match call receiv award',\n",
              " 'accordingli repeat text word ok mobil phone send',\n",
              " 'boltblu tone p repli poli mono eg poli cha cha slide yeah slow jamz toxic come stop tone txt',\n",
              " 'hiya good day spoken sinc weekend',\n",
              " 'orang bring rington time chart hero free hit week go rington pic wap stop receiv tip repli stop',\n",
              " 'uncl atlanta wish guy great semest',\n",
              " 'hai priya right doctor said pa',\n",
              " 'sorri guess whenev get hold connect mayb hour two text',\n",
              " 'urgent mobil number award prize guarante call land line claim valid hr',\n",
              " 'much get',\n",
              " 'sure check yahoo email sent photo yesterday',\n",
              " 'check room befor activ',\n",
              " 'let know detail fri u find co tom fri mention chines thank',\n",
              " 'hack chat get backdoor entri chat room fraction cost repli neo call subscrib p pm dp bcm box ldn wc n xx',\n",
              " 'chosen receiv award pl call claim number collect award select receiv valu mobil custom',\n",
              " 'hous maid murder coz man murder lt gt th januari public holiday govt instituit close includ post offic understand',\n",
              " 'aight sound good want come',\n",
              " 'ye princess want pleas everi night wish command',\n",
              " 'thank rington order refer number x mobil charg tone arriv pleas call custom servic',\n",
              " 'contact date servic someon know find call land line pobox w tg p',\n",
              " 'shuhui bought ron present swatch watch',\n",
              " 'free st week entri textpod chanc win gb ipod cash everi wk txt pod ts cs www textpod net custcar',\n",
              " 'free st week entri textpod chanc win gb ipod cash everi wk txt vpod ts cs www textpod net custcar',\n",
              " 'sell ton coin sell coin someon thru paypal voila money back life pocket',\n",
              " 'stop club tone repli stop mix see tone com enjoy html term club tone cost gbp week mfl po box mk wt',\n",
              " 'mobi pub quiz win high street prize u know new duchess cornwal txt first name unsub stop sp arrow',\n",
              " 'still got lesson sch',\n",
              " 'good morn dear shijutta great amp success day',\n",
              " 'congrat mobil g videophon r call videochat wid mate play java game dload polyph music nolin rentl',\n",
              " 'headin toward busetop',\n",
              " 'free entri weekli comp send word win c www txttowin co uk',\n",
              " 'get free mobil video player free movi collect text go free extra film order c appli yr',\n",
              " 'doubl min doubl txt price linerent latest orang bluetooth mobil call mobileupd latest offer call optout lf',\n",
              " 'call later network urgnt sm',\n",
              " 'awesom lemm know whenev around',\n",
              " 'nice day impress sensibl went home earli feel fine bore rememb',\n",
              " 'probabl money worri thing come due sever outstand invoic work two three month ago',\n",
              " 'rington club gr new poli direct mobil everi week',\n",
              " 'sunshin hol claim ur med holiday send stamp self address envelop drink us uk po box bray wicklow eir quiz start saturday unsub stop',\n",
              " 'gudnit tc practic go',\n",
              " 'ye realli great bhaji told kalli best cricket sachin world tough get',\n",
              " 'hot live fantasi call p per min ntt ltd po box croydon cr wb nation rate call',\n",
              " 'nd time tri contact u u prize claim call b cs stop sm ppm',\n",
              " 'meet lobbi',\n",
              " 'aight rush ask jay',\n",
              " 'upload mine facebook',\n",
              " 'pleas call custom servic repres freephon pm guarante cash prize',\n",
              " 'sorri call later meet',\n",
              " 'wamma get laid want real doggin locat sent direct mobil join uk largest dog network txt dog nyt ec lp msg',\n",
              " 'privat account statement',\n",
              " 'ummma call check life begin qatar pl pray hard',\n",
              " 'love decis feel could decid love life would much simpler less magic',\n",
              " 'urgent tri contact u today draw show prize guarante call land line claim c valid hr',\n",
              " 'new mobil must go txt nokia collect today www tc biz optout gbp mtmsg',\n",
              " 'urgent nd attempt contact u u call b csbcm wc n xx callcost ppmmobilesvari max',\n",
              " 'yup still coffe wif fren fren drove give lift',\n",
              " 'ur balanc next question complet landmark big bob b barri c ben text b c good luck',\n",
              " 'free top polyphon tone call nation rate get toppoli tune sent everi week text subpoli per pole unsub',\n",
              " 'offic what matter msg call break',\n",
              " 'nokia get win free auction take part send nokia hg suit land row w jhl',\n",
              " 'know u u know send chat let find p msg rcvd hg suit land row w j hl ldn year',\n",
              " 'sm ac sun post hello seem cool want say hi hi stop send stop',\n",
              " 'yeah get unlimit',\n",
              " 'free game get rayman golf free game arcad st get ur game set repli post save activ press key arcad termsappli',\n",
              " 'know taj mahal symbol love lesser known fact mumtaz shahjahan th wife wife shahjahan kill mumtaz husband marri mumtaz die lt gt th deliveri marri mumtaz sister question aris hell love great hari',\n",
              " 'sport fan get latest sport news str ur mobil wk free plu free tone txt sport www getz co uk norm txt p',\n",
              " 'anyway think secur anyth lemm know want drive south chill',\n",
              " 'great news call freefon claim guarante cash gift speak live oper',\n",
              " 'lol know dramat school alreadi close tomorrow appar drive inch snow suppos get',\n",
              " 'dear ok',\n",
              " 'sunshin quiz wkli q win top soni dvd player u know countri algarv txt ansr sp tyron',\n",
              " 'free polyphon rington text super get free poli tone week sn pobox nr zs subscript pw',\n",
              " 'st wk free gr tone str u wk txt nokia classic nokia tone hit poli nokia p poli p',\n",
              " 'free tone hope enjoy new content text stop unsubscrib help p provid tone co uk',\n",
              " 'spring come earli yay',\n",
              " 'hi pleas get lt gt dollar loan pay back mid februari pl',\n",
              " 'got fujitsu ibm hp toshiba got lot model say',\n",
              " 'urgent tri contact u today draw show prize guarante call land line claim valid hr',\n",
              " 'import inform orang user xxxxxx today ur lucki day find log onto http www urawinn com fantast prizeawait',\n",
              " 'mean u could keep ur word',\n",
              " 'buy space invad chanc win orig arcad game consol press game arcad std wap charg see co uk game term set purchas',\n",
              " 'nah dub je still buff',\n",
              " 'love give massag use lot babi oil fave posit',\n",
              " 'friend use call',\n",
              " 'current messag await collect collect messag call',\n",
              " 'free day sexi st georg day pic jordan txt pic dont miss everi wk sauci celeb pic c pocketbab co uk wk',\n",
              " 'guess lt gt min',\n",
              " 'watch cartoon listen music amp eve go templ amp church u',\n",
              " 'haha friend tyler liter ask could get dubsack',\n",
              " 'loan purpos homeown tenant welcom previous refus still help call free text back help',\n",
              " 'email alertfrom jeri stewarts kbsubject low cost prescripiton drvgsto listen email call',\n",
              " 'u nokia plu free digit camera u get u win free auction take part send nokia pobox tcr w',\n",
              " 'ok',\n",
              " 'solihul want anyth',\n",
              " 'bore housew chat n date bt nation rate p min landlin',\n",
              " 'gr poli tone mob direct u rpli poli titl eg poli breath titl crazyin sleepingwith finest ymca getz co uk pobox w wq p',\n",
              " 'text meet someon sexi today u find date even flirt u join p repli name age eg sam msg recd thirtyeight penc',\n",
              " 'regret inform u nh made mistak u never actual born pleas report yor local hospit b termin r sorri inconveni',\n",
              " 'hey time drive fri go evalu fri',\n",
              " 'spjanuari male sale hot gay chat cheaper call nation rate p min cheap p min peak stop text call p min',\n",
              " 'last chanc claim ur worth discount voucher today text shop savamob offer mobil cs savamob pobox uz sub',\n",
              " 'yup ok go home look time msg xuhui go learn nd may lesson',\n",
              " 'know god creat gap finger one made come amp fill gap hold hand love',\n",
              " 'dude fake frnd got money tht reffer u u member wit mail link u vl credit lt gt rs il geti lt gt rs draw acc wen lt gt rs',\n",
              " 'lt gt g saw day ago guy want sell wifi lt gt g lt gt blank',\n",
              " 'alreadi got flaki parent snot suppos child job support parent ride age anyway suppos support hurt unintent hurt nonetheless',\n",
              " 'day euro kickoff u kept inform latest news result daili unsubscrib send get euro stop',\n",
              " 'prize go anoth custom c www c biz p min polo ltd suit london w j hl pleas call back busi',\n",
              " 'happi new year man',\n",
              " 'camera award sipix digit camera call fromm landlin deliveri within day',\n",
              " 'network oper servic free c visit biz',\n",
              " 'import custom servic announc call freephon',\n",
              " 'got lousi sleep kept wake everi hour see cat want come worri cold',\n",
              " 'got call tool',\n",
              " 'england v macedonia dont miss goal team news txt ur nation team eg england tri wale scotland txt poboxox w wq',\n",
              " 'thk shd ok said plu minu leav line paragraph',\n",
              " 'get gandhipuram walk cross cut road right side lt gt street road turn first right',\n",
              " 'okay chase dream good next',\n",
              " 'whatev juliana whatev want',\n",
              " 'aight ill get fb coupl minut',\n",
              " 'hot live fantasi call p per min ntt ltd po box croydon cr wb nation rate call',\n",
              " 'come home dinner',\n",
              " 'uncl abbey happi new year abiola',\n",
              " 'nokia phone lovli',\n",
              " 'also hi wesley',\n",
              " 'call u finish come n pick u',\n",
              " 'cant pick phone right pl send messag',\n",
              " 'thank god bed',\n",
              " 'pleas call custom servic repres freephon pm guarante cash prize',\n",
              " 'train back northampton afraid stay skyve today ho ho around wednesday though fanci comedi club week way',\n",
              " 'congrat year special cinema pass call c suprman v matrix starwar etc free bx ip pm dont miss',\n",
              " 'freemsg hi babi wow got new cam mobi wanna c hot pic fanci chat im w utxt rpli chat hlp msg p rcv',\n",
              " 'good morn plz call sir',\n",
              " 'import messag final contact attempt import messag wait custom claim dept expir call',\n",
              " 'u meet ur dream partner soon ur career flyng start find free txt horo follow ur star sign e g horo ari',\n",
              " 'mobil mth updat latest camera video phone free keep ur number get extra free min text text ye call',\n",
              " 'great hope use connect mode men also co never know old friend lead today',\n",
              " 'hi ct employe',\n",
              " 'sorri call later',\n",
              " 'accident brought em home box',\n",
              " 'congratul ur award cd voucher gift guarante free entri wkli draw txt music tnc www ldew com win ppmx age',\n",
              " 'bore speed date tri speedchat txt speedchat like em txt swap get new chatter chat pobox w wq p msg rcd',\n",
              " 'god pick flower dippeditinadew lovingli touch itwhichturnedinto u gift tomeandsaid friend u',\n",
              " 'take away money worri',\n",
              " 'rememb',\n",
              " 'u secret admir look make contact u find r reveal think ur special call',\n",
              " 'smsservic yourinclus text credit pl goto www comuk net login qxj unsubscrib stop extra charg help comuk cm ae',\n",
              " 'bloomberg messag center wait appli futur http career bloomberg com',\n",
              " 'realli crash cuddl sofa',\n",
              " 'bruce amp fowler mom car park long stori',\n",
              " 'freemsg record indic may entitl pound accid claim free repli ye msg opt text stop',\n",
              " 'messag free welcom new improv sex dog club unsubscrib servic repli stop msg p',\n",
              " 'winner special select receiv cash award speak live oper claim call pm cost p',\n",
              " 'free st week nokia tone ur mob everi week txt nokia get txting tell ur mate www getz co uk pobox w wq norm p tone',\n",
              " 'u realli pig leh sleep much dad wake smth eat lunch today',\n",
              " 'oh god taken teeth pain',\n",
              " 'yeah right bring tape measur fri',\n",
              " 'network allow compani bill sm respons supplier shop give guarante sell b g',\n",
              " 'dude u knw also telugu tht gud k gud nyt',\n",
              " 'urgent mobil award bonu caller prize nd attempt contact call box qu',\n",
              " 'winner u special select receiv cash holiday flight inc speak live oper claim',\n",
              " 'happen',\n",
              " 'meet lunch la',\n",
              " 'sex ur mobil free sexi pic jordan text babe everi wk get sexi celeb pocketbab co uk pic wk',\n",
              " 'good morn princess great day',\n",
              " 'want new nokia colour phone deliv tomorrow free minut mobil free text free camcord repli call',\n",
              " 'remind get pound free call credit detail great offer pl repli text valid name hous postcod',\n",
              " 'new local date area lot new peopl regist area repli date start www flirtparti us repli',\n",
              " 'thank rington order ref number r mobil charg tone arriv pleas call custom servic',\n",
              " 'recpt order rington order process',\n",
              " 'sch neva mind u eat st lor',\n",
              " 'u win music gift voucher everi week start txt word draw tsc www ldew com skillgam winaweek age ppermesssubscript',\n",
              " 'privat account statement show unredeem bonu point claim call identifi code expir',\n",
              " 'today vodafon number end last four digit select receiv award number match pleas call claim award',\n",
              " 'send new number',\n",
              " 'hope enjoy new content text stop unsubscrib help p provid tone co uk',\n",
              " 'lmao fish memori need',\n",
              " 'teach app da come colleg',\n",
              " 'sorri took long omw',\n",
              " 'somewher beneath pale moon light someon think u dream come true goodnit amp sweet dream',\n",
              " 'need drug anymor',\n",
              " 'free video camera phone half price line rental mth cross ntwk min txt call mobileupd call optout',\n",
              " 'new voicemail pleas call',\n",
              " 'free entri gr prize wkli comp chanc win latest nokia psp cash everi wk txt great http www gr prize com',\n",
              " 'text creepi like think forgot',\n",
              " 'olol print forum post guy exact prob fix gpu replac hope dont ignor',\n",
              " 'want grasp pretti booti',\n",
              " 'tone club sub expir sub repli monoc mono polyc poli weekli p per week txt stop stop msg free stream',\n",
              " 'urgent ur guarante award still unclaim call closingd claimcod pmmorefrommobil bremov mobypobox ls yf',\n",
              " 'ur chanc win cash everi wk txt play c www music trivia net custcar x p wk',\n",
              " 'beerag',\n",
              " 'food',\n",
              " 'congratul week competit draw u prize claim call b cs stop sm ppm',\n",
              " 'alright took morphin back yo',\n",
              " 'cash prize claim call c rstm sw ss ppm',\n",
              " 'yup next stop',\n",
              " 'talk g x',\n",
              " 'depend u go lor',\n",
              " 'hi probabl much fun get messag thought id txt u co im bore jame fart night',\n",
              " 'agre stop thinkin ipad pleas ask macho question',\n",
              " 'otherwis part time job na tuition',\n",
              " 'noth got msg frm tht unknown',\n",
              " 'mummi boy good bad posit neg mummi made wait hmmmm',\n",
              " 'pleas call custom servic repres pm guarante cash prize',\n",
              " 'number vivek',\n",
              " 'okey doke home dress co lay around ill speak later bout time stuff',\n",
              " 'ever thought live good life perfect partner txt back name age join mobil commun p sm',\n",
              " 'wen ur lovabl bcum angri wid u dnt take serious coz angri childish n true way show deep affect care n luv kettoda manda nice day da',\n",
              " 'got hella ga money want go grand natur adventur galileo littl bit',\n",
              " 'freemsg repli text randi sexi femal live local luv hear u netcollex ltd p per msg repli stop end',\n",
              " 'opinion jada kusruthi lovabl silent spl charact matur stylish simpl pl repli',\n",
              " 'get tomorrow send',\n",
              " 'want funk ur fone weekli new tone repli tone u text www rington co uk origin n best tone gbp network oper rate appli',\n",
              " 'job profil seem like bpo',\n",
              " 'winner valu network custom hvae select receiv reward collect call valid hour acl pm',\n",
              " 'forward pleas call immedi urgent messag wait',\n",
              " 'realiz year thousand old ladi run around tattoo',\n",
              " 'ur rington servic chang free credit go club mobil com choos content stop txt club stop p wk club po box mk wt',\n",
              " 'mum ask buy food home',\n",
              " 'interflora late order interflora flower christma call place order midnight tomorrow',\n",
              " 'thank chikku gud nyt',\n",
              " 'dont file bag work call tell find anyth room',\n",
              " 'send logo ur lover name join heart txt love name name mobno eg love adam eve yahoo pobox w wq txtno ad p',\n",
              " 'refus loan secur unsecur get credit call free text back help',\n",
              " 'latest news polic station toilet stolen cop noth go',\n",
              " 'enjoy jamster videosound gold club credit new videosound logo musicnew get fun jamster co uk help call',\n",
              " 'still come tonight',\n",
              " 'hot n horni will live local text repli hear strt back p per msg netcollex ltdhelpdesk repli stop end',\n",
              " 'call u done',\n",
              " 'im sorri bout last nite ur fault spous pmt sumthin u give think u shldxxxx',\n",
              " 'new theori argument win situat lose person dont argu ur friend kick amp say alway correct',\n",
              " 'need strong arm',\n",
              " 'custom place call',\n",
              " 'woke yeesh late fall asleep til lt gt',\n",
              " 'erm ill pick pm give enough time get park',\n",
              " 'hello drivbi quit edrunk sorri iff pthi make senrd dnot dancc drum n basq ihav fun nhite x ro xxxxxxx',\n",
              " 'new messag call',\n",
              " 'urgent mobil number award prize guarante call land line claim valid hr ppm',\n",
              " 'weightloss girl friend make load money ebay someth give thank god',\n",
              " 'repli win weekli fifa world cup held send stop end servic',\n",
              " 'wn u r hurt prsn close u fight wit dem coz somtim di fight save relat bt quiet leav nothin relat gud eveb',\n",
              " 'u hav frnd name ashwini ur colleg',\n",
              " 'eastend tv quiz flower dot compar violet e tulip f lili txt e f chanc win cash wkent p',\n",
              " 'bot note oredi co juz rem got',\n",
              " 'upgrdcentr orang custom may claim free camera phone upgrad loyalti call offer end th juli c appli opt avail',\n",
              " 'oh charg camera',\n",
              " 'noth spl wat abt u whr ru',\n",
              " 'rgent nd attempt contact u u call b csbcm wc n xx callcost ppm mobilesvari max',\n",
              " 'u secret admir look make contact u find r reveal think ur special call stopsm',\n",
              " 'b u voucher w c marsm log onto www b utel com discount credit opt repli stop custom care call',\n",
              " 'xma iscom ur award either cd gift voucher free entri r weekli draw txt music tnc www ldew com win ppmx age subscript',\n",
              " 'ok da alreadi plan wil pick',\n",
              " 'thank hope good day today',\n",
              " 'lord ring return king store repli lotr june chanc win lotr soundtrack cd stdtxtrate repli stop end txt',\n",
              " 'god bless get good sleep dear pray',\n",
              " 'new club dont fink met yet b gr c u pleas leav msg day wiv ur area repli promis carli x call minmobsmor lkpobox hp fl',\n",
              " 'much textin bout',\n",
              " 'petey boy wherear friendsar thekingshead come canlov nic',\n",
              " 'hard live chat p min choos girl connect live call cheap chat uk biggest live servic vu bcm wc n xx',\n",
              " 'go chase run cross street',\n",
              " 'got lot hair dresser fr china',\n",
              " 'sent scream moan bed princess',\n",
              " 'like new mobil',\n",
              " 'yeah confirm stay weekend',\n",
              " 'free ring tone text poli everi week get new tone yr wk',\n",
              " 'hi happi new year dont mean intrud pl let know much tuition paid last semest much semest thank',\n",
              " 'watch telugu movi wat abt u',\n",
              " 'uniqu user id remov send stop custom servic',\n",
              " 'final chanc claim ur worth discount voucher today text ye savamob member offer mobil cs savamob pobox uz sub',\n",
              " 'brand new mobil music servic live free music player arriv shortli instal phone brows content top artist',\n",
              " 'oop shower u call hey park garag collaps univers hospit see crazi stuff like happen',\n",
              " 'great comedi cant stop laugh da',\n",
              " 'yet ya sapna aunti maneg day hogidh chinnu full weak swalpa black agidhan',\n",
              " 'someon u know ask date servic contact cant guess call reveal po box wu',\n",
              " 'u outbid simonwatson shinco dvd plyr bid visit sm ac smsreward end bid notif repli end',\n",
              " 'sm servic inclus text credit pl goto www comuk net login qxj unsubscrib stop extra charg help comuk cm ae',\n",
              " 'huh cant go ur hous empti hand right',\n",
              " 'urgent pleas call abta complimentari spanish holiday cash await collect sae cs box po ez ppm',\n",
              " 'winner guarante caller prize final attempt contact claim call ppmpobox bhamb xe',\n",
              " 'borrow ur bag ok',\n",
              " 'think da wil',\n",
              " 'bar b q store life twat orang dungere came ask want deck got first punch',\n",
              " 'free top rington sub weekli rington get st week free send subpoli per week stop sm',\n",
              " 'small problem auction punj ask tiwari',\n",
              " 'oh k k take test',\n",
              " 'come day class',\n",
              " 'mobil mth updat latest orang camera video phone free save free text weekend call text ye callback orno opt',\n",
              " 'ha ha cool cool chikku chikku db',\n",
              " 'send number give repli tomorrow morn said like ok',\n",
              " 'sppok ur mob halloween collect nokia logo pic messag plu free eeri tone txt card spook',\n",
              " 'pleas call immedi urgent messag wait',\n",
              " 'think mentor percent sure',\n",
              " 'orh tot u say still dun believ',\n",
              " 'dear voucher holder claim week offer pc go http www e tlp co uk expressoff ts cs appli stop text txt stop',\n",
              " 'lol busi',\n",
              " 'messag brought gmw ltd connect',\n",
              " 'place man',\n",
              " 'oh yeah forgot u take shop',\n",
              " 'okay soon best',\n",
              " 'life never much fun great came made truli special forget enjoy one gbp sm',\n",
              " 'chanc realiti fantasi show call p per min ntt ltd po box croydon cr wb nation rate call',\n",
              " 'dear matthew pleas call landlin complimentari lux tenerif holiday cash await collect ppm sae cs box sk xh',\n",
              " 'call use ur min call cast p min mob vari servic provid aom gbp month aom box er u stop age',\n",
              " 'sir good morn hope good weekend call let know abl rais lt gt dad howev said would make rest avail mid feb amount still quit short hope would help good day abiola',\n",
              " 'bday real april',\n",
              " 'www applausestor com monthlysubscript p msg max month csc web age stop txt stop',\n",
              " 'long applebe fuck take',\n",
              " 'pl need dat slowli vomit',\n",
              " 'dear u invit xchat final attempt contact u txt chat',\n",
              " 'neva tell noe home da aft wat',\n",
              " 'rt king pro video club need help info ringtonek co uk call must club credit redeem www ringtonek co uk enjoy',\n",
              " 'doubl min txt orang price linerent motorola sonyericsson b tooth free nokia free call mobileupd optout hv',\n",
              " 'cant pick phone right pl send messag',\n",
              " 'want get laid tonight want real dog locat sent direct ur mob join uk largest dog network bt txting gravel nt ec p msg p',\n",
              " 'think chuckin ur red green n black trainner save carryin bac train',\n",
              " 'tri contact offer new video phone anytim network min half price rental camcord call repli deliveri wed',\n",
              " 'nd attempt contract u week top prize either cash prize call',\n",
              " 'today voda number end select receiv award hava match pleas call quot claim code standard rate app',\n",
              " 'sorri call later meet',\n",
              " 'free st week nokia tone ur mobil everi week txt nokia get txting tell ur mate www getz co uk pobox w wq norm p tone',\n",
              " 'got take take part wrc ralli oz u lucozad energi text ralli le p see pack lucozad co uk wrc itcould u',\n",
              " 'u win music gift voucher everi week start txt word draw tsc www idew com skillgam winaweek age ppermesssubscript',\n",
              " 'realis busi guy tri bother get exam outta way tri car gr day',\n",
              " 'yeah fine get ok',\n",
              " 'great new offer doubl min doubl txt best orang tariff get latest camera phone free call mobileupd free stoptxt cs',\n",
              " 'opinion jada kusruthi lovabl silent spl charact matur stylish simpl pl repli',\n",
              " 'get lion england tone repli lionm mono lionp poli go www rington co uk origin n best tone gbp network oper rate appli',\n",
              " 'girl mani local u r virgin r readi fil ur everi sexual need u fil text cute p',\n",
              " 'cme want go ho morow wil cme got dear didnt say time',\n",
              " 'reach home tire come tomorro',\n",
              " 'pleas call custom servic repres freephon pm guarante cash prize',\n",
              " 'win winner mr foley ipod excit prize soon keep eye ur mobil visit www win co uk',\n",
              " 'oh ok wat ur email',\n",
              " 'press confer da',\n",
              " 'give one miss number pleas',\n",
              " 'santa call would littl one like call santa xma eve call book time call ppm last min c www santacal com',\n",
              " 'good morn repair shop reason hour',\n",
              " 'text banneduk see cost p textoper g ga xxx',\n",
              " 'cool text readi',\n",
              " 'check choos babe video sm shsex netun fgkslpopw fgkslpo',\n",
              " 'jokin oni lar busi wun disturb',\n",
              " 'new messag pleas call',\n",
              " 'sunshin quiz wkli q win top soni dvd player u know countri liverpool play mid week txt ansr sp tyron',\n",
              " 'sorri mate phone didnt write love kate',\n",
              " 'lmao nice',\n",
              " 'hi think match',\n",
              " 'see half hour',\n",
              " 'x lt gt go get',\n",
              " 'guy get use dumb realiz',\n",
              " 'nokia tone ur mob everi week txt nok st tone free get txtin tell ur friend p tone repli hl info',\n",
              " 'ur tonex subscript renew charg choos poli month www clubz co uk bill msg',\n",
              " 'ye obvious egg pert potato head speak soon',\n",
              " 'nd time tri contact u u prize claim easi call p per minut bt nation rate',\n",
              " 'spook mob halloween collect logo pic messag plu free eeri tone txt card spook zed p per logo pic',\n",
              " 'glad talk',\n",
              " 'da stupid da alway send like believ messag pandi mental',\n",
              " 'xma reward wait comput randomli pick loyal mobil custom receiv reward call',\n",
              " 'slave want take pictur today bright light cell phone bright light',\n",
              " 'check mail mail varma kept copi regard membership take care insha allah',\n",
              " 'text get rington logo game www txt com question info txt co uk',\n",
              " 'affidavit say lt gt e twigg st divis g courtroom lt gt lt time gt doubl check text tomorrow',\n",
              " 'hi babe chloe r u smash saturday night great weekend u miss sp visionsm com text stop stop p text',\n",
              " 'ok c',\n",
              " 'say die man feel sad go want know would probabl gone late night',\n",
              " 'fp',\n",
              " 'get lion england tone repli lionm mono lionp poli go www rington co uk origin n best tone gbp network oper rate appli',\n",
              " 'back brum thank put us keep us happi see soon',\n",
              " 'winner u special select receiv cash holiday flight inc speak live oper claim',\n",
              " 'heard u call night knicker make beg like u last time xx luv nikiyu net',\n",
              " 'congratul ur award either cd gift voucher free entri weekli draw txt music tnc www ldew com win ppmx age',\n",
              " 'themob yo yo yo come new select hot download member get free click open next link sent ur fone',\n",
              " 'privat account statement show un redeem point call identifi code expir',\n",
              " 'slaaaaav must summon time wish come anymor',\n",
              " 'gsoh good spam ladi u could b male gigolo join uk fastest grow men club repli oncal mjzgroup stop repli stop msg rcvd',\n",
              " 'yup leav right back soon',\n",
              " 'hot live fantasi call p per min ntt ltd po box croydon cr wb nation rate call',\n",
              " 'hey r still onlin finish format',\n",
              " 'u secret admir look make contact u find r reveal think ur special call',\n",
              " 'free text messag valid decemb',\n",
              " 'mine like fr china noisi',\n",
              " 'winner valu network custom select receivea prize reward claim call claim code kl valid hour',\n",
              " 'marvel mobil play offici ultim spider man game ur mobil right text spider game send u free ball wallpap',\n",
              " 'urgent tri contact u today draw show prize guarante call land line claim c valid hr',\n",
              " 'lol mad first woke gave',\n",
              " 'sexi sexi cum text im wet warm readi porn u fun msg free recd msg p inc vat cancel text stop',\n",
              " 'hi home calicut',\n",
              " 'u subscrib best mobil content servic uk per ten day send stop helplin',\n",
              " 'want anytim network min text new video phone five pound per week call repli deliveri tomorrow',\n",
              " 'congratul ore mo owo wa enjoy wish mani happi moment fro wherev go',\n",
              " 'meet corpor st outsid gap see mind work',\n",
              " 'romcapspam everyon around respond well presenc sinc warm outgo bring real breath sunshin',\n",
              " 'call freephon',\n",
              " 'freemsg fanci flirt repli date join uk fastest grow mobil date servic msg rcvd p optout txt stop repli date',\n",
              " 'donat unicef asian tsunami disast support fund text donat ad next bill',\n",
              " 'gumbi special lt gt chees pizza know doin tonight',\n",
              " 'sorri roommat took forev ok come',\n",
              " 'free msg bill mobil number mistak shortcod pleas call charg refund call free bt landlin',\n",
              " 'come back tampa ffffuuuuuuu',\n",
              " 'urgent mobil bonu caller prize nd attempt reach call asap box n qp ppm',\n",
              " 'beauti life next second hide thousand secret wish everi second wonder ur life gud n',\n",
              " 'valu vodafon custom comput pick win prize collect easi call',\n",
              " 'want new video phone anytim network min half price line rental free text month repli call free deliveri',\n",
              " 'dad back ph',\n",
              " 'ye said',\n",
              " 'short cute good person dont tri prove gud noon',\n",
              " 'okmail dear dave final notic collect tenerif holiday cash award call landlin tc sae box cw wx ppm',\n",
              " 'custom loyalti offer new nokia mobil txtauction txt word start get ctxt tc p mtmsg',\n",
              " 'flirt txt girl bloke ur name age eg girl zoe join get chat',\n",
              " 'hope good week check',\n",
              " 'u secret admir reveal think u r special call opt repli reveal stop per msg recd cust care',\n",
              " 'new car hous parent new job hand',\n",
              " 'pleas call custom servic repres freephon pm guarante cash prize',\n",
              " 'hi u want join st later meet five call u class',\n",
              " 'simpson movi releas juli name band die start film green day b blue day c red day send b c',\n",
              " 'today offer claim ur worth discount voucher text ye savamob member offer mobil cs sub unsub repli x',\n",
              " 'ok ask money far',\n",
              " 'urgent mobil number award bonu caller prize call land line valid hr',\n",
              " 'lol well qualiti aint bad aint complain',\n",
              " 'ur go bahama callfreefon speak live oper claim either bahama cruis cash opt txt x',\n",
              " 'dad say hurri hell',\n",
              " 'guarante award even cashto claim ur award call free stop getstop php',\n",
              " 'hi durban still number',\n",
              " 'tap spile seven pub ga st broad st canal ok',\n",
              " 'meet rite go home lor dun feel like comin ok',\n",
              " 'ok great thanx lot',\n",
              " 'get touch folk wait compani txt back name age opt enjoy commun p sm',\n",
              " 'cash prize claim call',\n",
              " 'nd time tri contact u u pound prize claim easi call p per min bt nation rate',\n",
              " 'thank babi cant wait tast real thing',\n",
              " 'free video camera phone half price line rental mth cross ntwk min txt call mobileupd call optout',\n",
              " 'send ur birthdat month year tel u ur life partner name method calcul repli must',\n",
              " 'id onluy matter get offcampu',\n",
              " 'u secret admir look make contact u find r reveal think ur special call',\n",
              " 'free st week nokia tone ur mob everi week txt nokia get txting tell ur mate zed pobox w wq norm p tone',\n",
              " 'hot live fantasi call p per min ntt ltd po box croydon cr wb k',\n",
              " 'let snow let snow kind weather bring ppl togeth friendship grow',\n",
              " 'tell friend plan valentin day lt url gt',\n",
              " 'ladi first genu second k',\n",
              " 'sm auction brand new nokia auction today auction free join take part txt nokia hg suit land row w j hl',\n",
              " 'well keep mind got enough ga one round trip bar sudden influx cash',\n",
              " 'romant pari night flight book next year call ts cs appli',\n",
              " 'eatin lor goin back work soon e mountain deer show huh watch b liao nice',\n",
              " 'got look scrumptiou daddi want eat night long',\n",
              " 'get garden readi summer free select summer bulb seed worth scotsman saturday stop go notxt co uk',\n",
              " 'k k good go',\n",
              " 'last chanc claim ur worth discount voucher text ye savamob member offer mobil cs sub remov txt x stop',\n",
              " 'buy space invad chanc win orig arcad game consol press game arcad std wap charg see co uk game term set purchas',\n",
              " 'hey realli horni want chat see nake text hot text charg pm unsubscrib text stop',\n",
              " 'babe feel let get tri cheer fit soo muchxxlov u locaxx',\n",
              " 'dai da send resum id',\n",
              " 'pl send correct name da',\n",
              " 'doubl min txt month free bluetooth orang avail soni nokia motorola phone call mobileupd call optout n dx',\n",
              " 'tuition hm go one mind',\n",
              " 'u reach orchard alreadi u wan go buy ticket first',\n",
              " 'win year suppli cd store ur choic worth enter weekli draw txt music ts cs www ldew com sub win ppmx',\n",
              " 'ye sura sun tv lol',\n",
              " 'prize go anoth custom c www c biz p min polo ltd suit london w j hl pleas call back busi',\n",
              " 'congrat mobil g videophon r call videochat wid ur mate play java game dload polyh music nolin rentl bx ip pm',\n",
              " 'start send blackberri torch nigeria find buyer like month tell dad buy bb anyon oh',\n",
              " 'free nokia motorola upto mth price linerent free x net min txt mth free b tooth call mobileupd call optout wv',\n",
              " 'special select receiv pound award call line close cost ppm cs appli ag promo',\n",
              " 'cool let know kick around lt gt day',\n",
              " 'wanna gym',\n",
              " 'thank continu support question week enter u draw cash name new us presid txt an',\n",
              " 'aiyo lesson earli still sleepin haha oki u go home liao den confirm w lor',\n",
              " 'yay better told girl either',\n",
              " 'u call right call hand phone',\n",
              " 'lol real told dad cancer',\n",
              " 'buzz hey love think hope day goe well sleep miss babe long moment togeth love smile',\n",
              " 'u dogbreath sound like jan c al',\n",
              " 'sm ac jsco energi high u may know channel day ur leadership skill r strong psychic repli an w question end repli end jsco',\n",
              " 'money wine number wot next',\n",
              " 'mobil club choos top qualiti item mobil cfca',\n",
              " 'scotland hope show jjc tendenc take care live dream',\n",
              " 'dude ive see lotta corvett late',\n",
              " 'wot u bitch',\n",
              " 'gonna blake night might abl get littl earli',\n",
              " 'ball move lot spin last difficult bat',\n",
              " 'mobi pub quiz win high street prize u know new duchess cornwal txt first name unsub stop sp',\n",
              " 'dear voucher holder claim week offer pc pleas go http www e tlp co uk reward ts cs appli',\n",
              " 'win urgent mobil number award prize guarante call land line claim valid hr ppm',\n",
              " 'know lt gt around',\n",
              " 'came look flat seem ok away alot wiv work got woman come',\n",
              " 'free st week nokia tone ur mob everi week txt nokia get txting tell ur mate www getz co uk pobox w wq norm p tone',\n",
              " 'like lt gt question',\n",
              " 'mobil month u r entitl updat latest colour mobil camera free call mobil updat co free',\n",
              " 'importantli discuss u',\n",
              " 'premium phone servic call',\n",
              " 'gimm lt gt minut ago',\n",
              " 'oh babi hous come dont new pictur facebook',\n",
              " 'one interest may busi plan',\n",
              " 'wyli updat weed dealer carlo went freedom class lunsford',\n",
              " 'oh yeah hav great time newquay send postcard look girl im gone u know im talkin bout xx',\n",
              " 'free tarot text find love life tri free text chanc free msg',\n",
              " 'mon oki lor haha best cheap n gd food la ex oso oki depend whether wana eat western chines food den u prefer',\n",
              " 'urgent tri contact u today draw show prize guarante call land line claim j po box c pm',\n",
              " 'free entri weekli comp send word enter c www textcomp com cust care',\n",
              " 'sure yet still tri get hold',\n",
              " 'back bit long co accid divert via wadebridg brilliant weekend thank speak soon lot love',\n",
              " 'gonna rip uteru',\n",
              " 'home alway chat',\n",
              " 'left vagu said would inform person account delay rent discuss hous agenc rent anoth place check onlin place around usc lt gt',\n",
              " 'noth get msg di name wit differ',\n",
              " 'urgent tri contact u today draw show prize guarante call land line claim valid hr',\n",
              " 'oh god found number glad text back xafter msg cst std ntwk chg',\n",
              " 'want new nokia colour phone deliveredtomorrow free minut mobil free text free camcord repli call',\n",
              " 'dont worri guess busi',\n",
              " 'u sick still go shop',\n",
              " 'januari male sale hot gay chat cheaper call nation rate p min cheap p min peak stop text call p min',\n",
              " 'doubl min doubl txt price linerent latest orang bluetooth mobil call mobileupd latest offer call optout lf',\n",
              " 'think might give miss teach til twelv lectur two damn work thing',\n",
              " 'loan purpos homeown tenant welcom previous refus still help call free text back help',\n",
              " 'camera award sipix digit camera call fromm landlin deliveri within day',\n",
              " 'also sir sent email log usc payment portal send anoth messag explain thing back home great weekend',\n",
              " 'sunshin quiz wkli q win top soni dvd player u know countri liverpool play mid week txt ansr sp tyron',\n",
              " 'win newest harri potter order phoenix book repli harri answer question chanc first among reader',\n",
              " 'wat r u busi wif work',\n",
              " 'dun believ u thk u told',\n",
              " 'urgent nd attempt contact u u call b csbcm wc n xx callcost ppm mobilesvari max',\n",
              " 'mobil month u r entitl updat latest colour mobil camera free call mobil updat co free',\n",
              " 'ya srsli better yi tho',\n",
              " 'r comin back dinner',\n",
              " 'r give second chanc rahul dengra',\n",
              " 'kit strip bill p netcollex ltd po box ig oja',\n",
              " 'true lov n care wil nevr go unrecogn though somon often make mistak valu definitli undrstnd start miss',\n",
              " 'pl confirm time collect chequ',\n",
              " 'ok lor',\n",
              " 'messag import inform user today lucki day find log onto http www urawinn com fantast surpris await',\n",
              " 'pop lt gt ibuprofen help',\n",
              " 'okay well thank clarif',\n",
              " 'vote wherev heart guid',\n",
              " ...]"
            ]
          },
          "metadata": {},
          "execution_count": 11
        }
      ]
    },
    {
      "cell_type": "markdown",
      "source": [
        "Creating the bag of words model to converting sentence into vectors"
      ],
      "metadata": {
        "id": "ZPKdL3Zkp-DF"
      }
    },
    {
      "cell_type": "code",
      "source": [
        "from sklearn.feature_extraction.text import CountVectorizer\n",
        "cv=CountVectorizer()\n",
        "X=cv.fit_transform(corpus).toarray()\n",
        "y=pd.get_dummies(undersampled_data['label']) ## Create two column (ham and spam)\n",
        "y=y.iloc[:,1].values   # Remove one column beacuse one column is give the both info (ham and spam)"
      ],
      "metadata": {
        "id": "dFNnHegposYl"
      },
      "execution_count": 12,
      "outputs": []
    },
    {
      "cell_type": "code",
      "source": [
        "\n",
        "# Get the shape of the array\n",
        "rows, columns = X.shape\n",
        "\n",
        "# Print the number of columns\n",
        "print(\"Number of columns:\",rows, columns)"
      ],
      "metadata": {
        "colab": {
          "base_uri": "https://localhost:8080/"
        },
        "id": "xRdHt5iI2S_a",
        "outputId": "7f232178-a2c6-427c-d306-c4339e816219"
      },
      "execution_count": 13,
      "outputs": [
        {
          "output_type": "stream",
          "name": "stdout",
          "text": [
            "Number of columns: 1494 3047\n"
          ]
        }
      ]
    },
    {
      "cell_type": "markdown",
      "source": [
        "Train Test split\n"
      ],
      "metadata": {
        "id": "0wLPJYCJq5eB"
      }
    },
    {
      "cell_type": "code",
      "source": [
        "from sklearn.model_selection import train_test_split\n",
        "X_train,X_test,y_train,y_test=train_test_split(X,y,test_size=0.20,random_state=0)"
      ],
      "metadata": {
        "id": "IcZzF8oDq39T"
      },
      "execution_count": 14,
      "outputs": []
    },
    {
      "cell_type": "markdown",
      "source": [
        "# Training model using Naive Bayes Classifier"
      ],
      "metadata": {
        "id": "2VuaP2-Y5HU4"
      }
    },
    {
      "cell_type": "markdown",
      "source": [
        "Naive Bayes is a classification Technique. It works completely on probability"
      ],
      "metadata": {
        "id": "bXlPsPYU50vu"
      }
    },
    {
      "cell_type": "code",
      "source": [
        "from sklearn.naive_bayes import MultinomialNB # Naive Bayes library\n",
        "spam_detect_model=MultinomialNB().fit(X_train,y_train)\n",
        "y_pred=spam_detect_model.predict(X_test)"
      ],
      "metadata": {
        "id": "0zVfS-fa5GPu"
      },
      "execution_count": 15,
      "outputs": []
    },
    {
      "cell_type": "markdown",
      "source": [
        "# Confusion Matrix"
      ],
      "metadata": {
        "id": "BVsJb54c6YsM"
      }
    },
    {
      "cell_type": "code",
      "source": [
        "from sklearn.metrics import confusion_matrix\n",
        "confusion_m=confusion_matrix(y_test,y_pred)\n",
        "confusion_m"
      ],
      "metadata": {
        "colab": {
          "base_uri": "https://localhost:8080/"
        },
        "id": "DU1SwIcq6YEm",
        "outputId": "60773233-97d0-4682-cca3-830ec62bab59"
      },
      "execution_count": 16,
      "outputs": [
        {
          "output_type": "execute_result",
          "data": {
            "text/plain": [
              "array([[137,   3],\n",
              "       [ 12, 147]])"
            ]
          },
          "metadata": {},
          "execution_count": 16
        }
      ]
    },
    {
      "cell_type": "markdown",
      "source": [
        "**# Accuracy Score**"
      ],
      "metadata": {
        "id": "LNRkLotS6rFg"
      }
    },
    {
      "cell_type": "code",
      "source": [
        "from sklearn.metrics import accuracy_score\n",
        "accuracy=accuracy_score(y_test,y_pred)\n",
        "accuracy"
      ],
      "metadata": {
        "colab": {
          "base_uri": "https://localhost:8080/"
        },
        "id": "Cs-33DDL6qYA",
        "outputId": "9aee8cbc-1bec-48e5-bafe-ae7a51ee9142"
      },
      "execution_count": 17,
      "outputs": [
        {
          "output_type": "execute_result",
          "data": {
            "text/plain": [
              "0.9498327759197325"
            ]
          },
          "metadata": {},
          "execution_count": 17
        }
      ]
    },
    {
      "cell_type": "markdown",
      "source": [
        "# **Word2Vec**"
      ],
      "metadata": {
        "id": "UvAHb194BnSS"
      }
    },
    {
      "cell_type": "code",
      "source": [
        "!pip install gensim"
      ],
      "metadata": {
        "colab": {
          "base_uri": "https://localhost:8080/"
        },
        "id": "XO-dIYLy60mS",
        "outputId": "ccf4ab36-aa98-4522-ca3c-7f187596725a"
      },
      "execution_count": null,
      "outputs": [
        {
          "output_type": "stream",
          "name": "stdout",
          "text": [
            "Requirement already satisfied: gensim in /usr/local/lib/python3.10/dist-packages (4.3.3)\n",
            "Requirement already satisfied: numpy<2.0,>=1.18.5 in /usr/local/lib/python3.10/dist-packages (from gensim) (1.26.4)\n",
            "Requirement already satisfied: scipy<1.14.0,>=1.7.0 in /usr/local/lib/python3.10/dist-packages (from gensim) (1.13.1)\n",
            "Requirement already satisfied: smart-open>=1.8.1 in /usr/local/lib/python3.10/dist-packages (from gensim) (7.0.4)\n",
            "Requirement already satisfied: wrapt in /usr/local/lib/python3.10/dist-packages (from smart-open>=1.8.1->gensim) (1.16.0)\n"
          ]
        }
      ]
    },
    {
      "cell_type": "code",
      "source": [
        "nltk.download('punkt')"
      ],
      "metadata": {
        "colab": {
          "base_uri": "https://localhost:8080/"
        },
        "id": "lo_Zy843hFYT",
        "outputId": "5c1f9ab5-e965-4d91-fe07-d059c2d367e4"
      },
      "execution_count": null,
      "outputs": [
        {
          "output_type": "stream",
          "name": "stderr",
          "text": [
            "[nltk_data] Downloading package punkt to /root/nltk_data...\n",
            "[nltk_data]   Unzipping tokenizers/punkt.zip.\n"
          ]
        },
        {
          "output_type": "execute_result",
          "data": {
            "text/plain": [
              "True"
            ]
          },
          "metadata": {},
          "execution_count": 11
        }
      ]
    },
    {
      "cell_type": "code",
      "source": [
        "nltk.download('stopwords')"
      ],
      "metadata": {
        "colab": {
          "base_uri": "https://localhost:8080/"
        },
        "id": "WkRyNuGVhMBm",
        "outputId": "583bc671-e153-4d11-8c3f-fa186bf9c1d7"
      },
      "execution_count": null,
      "outputs": [
        {
          "output_type": "stream",
          "name": "stderr",
          "text": [
            "[nltk_data] Downloading package stopwords to /root/nltk_data...\n",
            "[nltk_data]   Unzipping corpora/stopwords.zip.\n"
          ]
        },
        {
          "output_type": "execute_result",
          "data": {
            "text/plain": [
              "True"
            ]
          },
          "metadata": {},
          "execution_count": 13
        }
      ]
    },
    {
      "cell_type": "code",
      "source": [
        "from gensim.models import Word2Vec"
      ],
      "metadata": {
        "id": "XItPC89ECe9g"
      },
      "execution_count": null,
      "outputs": []
    },
    {
      "cell_type": "code",
      "source": [
        "from nltk.corpus import stopwords"
      ],
      "metadata": {
        "id": "FDihSehvClKa"
      },
      "execution_count": null,
      "outputs": []
    },
    {
      "cell_type": "code",
      "source": [
        "import re"
      ],
      "metadata": {
        "id": "IfUAWKQ8CnsR"
      },
      "execution_count": null,
      "outputs": []
    },
    {
      "cell_type": "code",
      "source": [
        "import nltk"
      ],
      "metadata": {
        "id": "JD9XX2-2g-Zw"
      },
      "execution_count": null,
      "outputs": []
    },
    {
      "cell_type": "markdown",
      "source": [
        "# **Preprocessing the data**"
      ],
      "metadata": {
        "id": "6vhHas_WCvYa"
      }
    },
    {
      "cell_type": "code",
      "source": [
        "paragraph=\"\"\"Trial and Error: Trying multiple solutions and learning from mistakes until a satisfactory solution is found.\n",
        "\n",
        "Hill Climbing: A heuristic that involves choosing the option that appears to lead most directly toward the goal, without considering other paths that might be better in the long run.\n",
        "\n",
        "Greedy Algorithm: A heuristic that makes the locally optimal choice at each step with the hope of finding the global optimum.\n",
        "\n",
        "Availability Heuristic: In decision-making, people often rely on immediate examples that come to mind, which might not be statistically representative but are easy to recall.\n",
        "\n",
        "Rule-Based Heuristics in AI: In artificial intelligence, heuristics miing predefined rules to make decisions or classify data when faced with incomplete information\"\"\""
      ],
      "metadata": {
        "id": "mach885jCqvA"
      },
      "execution_count": null,
      "outputs": []
    },
    {
      "cell_type": "code",
      "source": [
        "text=re.sub(r'\\[[0-9]*\\]',' ',paragraph)\n",
        "text=re.sub(r'\\s+',' ',text)\n",
        "text=text.lower()\n",
        "text=re.sub(r'\\d',' ',text)\n"
      ],
      "metadata": {
        "id": "H3S-jeYTDs_M"
      },
      "execution_count": null,
      "outputs": []
    },
    {
      "cell_type": "markdown",
      "source": [
        "**Preparing the dataset**"
      ],
      "metadata": {
        "id": "tSIrRKV8EEoj"
      }
    },
    {
      "cell_type": "code",
      "source": [
        "sentences=nltk.sent_tokenize(text)\n",
        "sentences=[nltk.word_tokenize(sentence) for sentence in sentences]\n",
        "for i in range(len(sentences)):\n",
        "  sentences[i]=[word for word in sentences[i] if word not in stopwords.words('english')]"
      ],
      "metadata": {
        "id": "H7nJWNiOEL2d"
      },
      "execution_count": null,
      "outputs": []
    },
    {
      "cell_type": "markdown",
      "source": [
        "**Training the Word2Vec Model**"
      ],
      "metadata": {
        "id": "8AJzqRlREcgL"
      }
    },
    {
      "cell_type": "code",
      "source": [
        "model=Word2Vec(sentences,min_count=1)"
      ],
      "metadata": {
        "id": "HfrdXXufEZrs"
      },
      "execution_count": null,
      "outputs": []
    },
    {
      "cell_type": "code",
      "source": [
        "words = model.wv.key_to_index\n",
        "for word in words:\n",
        "    print(word)"
      ],
      "metadata": {
        "colab": {
          "base_uri": "https://localhost:8080/"
        },
        "id": "Lo85QxaDF6cI",
        "outputId": "058e98ba-2354-46df-a1f8-37ad363d3acf"
      },
      "execution_count": null,
      "outputs": [
        {
          "output_type": "stream",
          "name": "stdout",
          "text": [
            ":\n",
            ",\n",
            ".\n",
            "heuristic\n",
            "might\n",
            "heuristics\n",
            "information\n",
            "directly\n",
            "toward\n",
            "goal\n",
            "considering\n",
            "without\n",
            "appears\n",
            "paths\n",
            "better\n",
            "long\n",
            "run\n",
            "greedy\n",
            "lead\n",
            "involves\n",
            "option\n",
            "choosing\n",
            "makes\n",
            "climbing\n",
            "hill\n",
            "found\n",
            "solution\n",
            "satisfactory\n",
            "mistakes\n",
            "learning\n",
            "solutions\n",
            "multiple\n",
            "trying\n",
            "error\n",
            "algorithm\n",
            "locally\n",
            "incomplete\n",
            "miing\n",
            "easy\n",
            "recall\n",
            "rule-based\n",
            "ai\n",
            "artificial\n",
            "intelligence\n",
            "predefined\n",
            "optimal\n",
            "rules\n",
            "make\n",
            "decisions\n",
            "classify\n",
            "data\n",
            "faced\n",
            "representative\n",
            "statistically\n",
            "mind\n",
            "come\n",
            "examples\n",
            "immediate\n",
            "rely\n",
            "often\n",
            "people\n",
            "decision-making\n",
            "availability\n",
            "optimum\n",
            "global\n",
            "finding\n",
            "hope\n",
            "step\n",
            "choice\n",
            "trial\n"
          ]
        }
      ]
    },
    {
      "cell_type": "markdown",
      "source": [
        "Finding word Vectors"
      ],
      "metadata": {
        "id": "Z8qBkuFDgjrY"
      }
    },
    {
      "cell_type": "code",
      "source": [
        "vector=model.wv['trial']\n",
        "vector"
      ],
      "metadata": {
        "colab": {
          "base_uri": "https://localhost:8080/"
        },
        "id": "3RqXsEYRgk_f",
        "outputId": "44d7d760-7e64-4efb-aa4c-099681007e59"
      },
      "execution_count": null,
      "outputs": [
        {
          "output_type": "execute_result",
          "data": {
            "text/plain": [
              "array([ 3.0735473e-03, -1.5805169e-03, -1.1971066e-03, -5.8435560e-03,\n",
              "       -5.7675052e-03, -3.5837055e-03,  3.1845557e-04,  1.4756379e-03,\n",
              "       -3.3038931e-03,  1.9370203e-03, -5.6676897e-03,  9.9856406e-03,\n",
              "       -8.1937783e-04, -6.9485172e-03, -1.8560637e-03,  7.9333847e-03,\n",
              "       -1.1008795e-03, -5.1554767e-03, -8.0451667e-03, -5.8725071e-03,\n",
              "       -3.1932297e-03,  7.7182171e-03, -7.2168517e-03,  1.4404964e-03,\n",
              "       -7.8708246e-05,  3.9384742e-03, -7.9449359e-03,  7.9514254e-03,\n",
              "       -2.7913027e-03,  5.2998234e-03, -9.5009329e-03,  5.0855139e-03,\n",
              "       -8.2449401e-03, -3.2582311e-03, -1.1822502e-03, -3.6431572e-03,\n",
              "       -7.3168782e-04,  2.4618317e-05,  4.5092227e-03, -2.2435635e-03,\n",
              "       -4.0093684e-03, -6.1738426e-03,  8.3234105e-03,  4.6133269e-03,\n",
              "        9.1041289e-03,  5.4820278e-03, -4.6099056e-03,  8.2772030e-03,\n",
              "       -6.9566392e-03,  3.0433941e-03, -3.3529389e-03,  2.6659574e-04,\n",
              "        3.7557126e-03, -2.8250667e-03, -4.4179899e-03, -1.9505207e-03,\n",
              "        5.2013434e-04,  6.4537381e-03, -5.8584269e-03,  4.6657785e-03,\n",
              "       -3.7100925e-03, -7.9436330e-03, -5.6015523e-03,  1.8577734e-03,\n",
              "        8.7851128e-03,  7.8762257e-03,  9.1799684e-03,  6.8959487e-03,\n",
              "       -2.9717165e-03, -2.4193695e-03,  8.8149589e-03,  6.4794184e-03,\n",
              "        6.0176384e-03,  6.8830219e-03,  1.6237383e-03,  2.3929125e-03,\n",
              "       -8.2094064e-03,  7.5381519e-03,  9.4431397e-03, -7.0841424e-03,\n",
              "        1.1587054e-03,  8.7396810e-03,  3.6521098e-03,  6.9542695e-03,\n",
              "        7.6249018e-03, -1.9235823e-03,  8.8693695e-03,  5.9867860e-03,\n",
              "       -1.8970463e-03,  6.2349907e-05,  9.7070765e-03,  5.8197849e-03,\n",
              "       -6.6828923e-03, -3.4905476e-03, -3.4833527e-03,  3.1230540e-03,\n",
              "        1.1051993e-03, -8.6004464e-03,  2.1689653e-03,  9.6171247e-03],\n",
              "      dtype=float32)"
            ]
          },
          "metadata": {},
          "execution_count": 19
        }
      ]
    },
    {
      "cell_type": "markdown",
      "source": [
        "# Most similar words"
      ],
      "metadata": {
        "id": "OjWAbtIIh2ne"
      }
    },
    {
      "cell_type": "code",
      "source": [
        "similarities=model.wv.most_similar('trial')\n",
        "similarities"
      ],
      "metadata": {
        "colab": {
          "base_uri": "https://localhost:8080/"
        },
        "id": "lkAQCrgdgrmT",
        "outputId": "bc09e8d5-b8e0-415c-d028-51df06ab6add"
      },
      "execution_count": null,
      "outputs": [
        {
          "output_type": "execute_result",
          "data": {
            "text/plain": [
              "[('directly', 0.23874180018901825),\n",
              " ('paths', 0.22564370930194855),\n",
              " ('learning', 0.1741049438714981),\n",
              " ('without', 0.1708003580570221),\n",
              " ('greedy', 0.1629941165447235),\n",
              " ('classify', 0.15689562261104584),\n",
              " ('people', 0.149494007229805),\n",
              " ('hope', 0.1408364325761795),\n",
              " ('found', 0.13837012648582458),\n",
              " ('finding', 0.11907698959112167)]"
            ]
          },
          "metadata": {},
          "execution_count": 20
        }
      ]
    },
    {
      "cell_type": "code",
      "source": [
        "# Define the word for which you want to find synonyms\n",
        "word = 'trial'  # Replace 'example' with your target word\n",
        "\n",
        "# Find the top N most similar words (synonyms)\n",
        "synonyms = model.wv.most_similar(word, topn=10)  # topn=10 gives the top 10 similar words\n",
        "\n",
        "# Print the synonyms\n",
        "print(synonyms)"
      ],
      "metadata": {
        "colab": {
          "base_uri": "https://localhost:8080/"
        },
        "id": "h7cZRqGkh_zW",
        "outputId": "a86640d4-6c1e-498b-d39a-0d6daf1ee594"
      },
      "execution_count": null,
      "outputs": [
        {
          "output_type": "stream",
          "name": "stdout",
          "text": [
            "[('directly', 0.23874180018901825), ('paths', 0.22564370930194855), ('learning', 0.1741049438714981), ('without', 0.1708003580570221), ('greedy', 0.1629941165447235), ('classify', 0.15689562261104584), ('people', 0.149494007229805), ('hope', 0.1408364325761795), ('found', 0.13837012648582458), ('finding', 0.11907698959112167)]\n"
          ]
        }
      ]
    },
    {
      "cell_type": "code",
      "source": [],
      "metadata": {
        "id": "ogvsZIoijrTn"
      },
      "execution_count": null,
      "outputs": []
    }
  ]
}